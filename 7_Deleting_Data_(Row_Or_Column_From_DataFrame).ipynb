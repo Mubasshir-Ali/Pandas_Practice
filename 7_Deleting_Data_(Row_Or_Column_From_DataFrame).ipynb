{
 "cells": [
  {
   "cell_type": "code",
   "execution_count": 1,
   "metadata": {},
   "outputs": [],
   "source": [
    "import numpy as np\n",
    "import pandas as pd"
   ]
  },
  {
   "cell_type": "code",
   "execution_count": 2,
   "metadata": {},
   "outputs": [
    {
     "name": "stdout",
     "output_type": "stream",
     "text": [
      "          one  two  thre  four\n",
      "Ohio        0    1     2     3\n",
      "Colorada    4    5     6     7\n",
      "Utah        8    9    10    11\n",
      "New York   12   13    14    15\n"
     ]
    }
   ],
   "source": [
    "data_df = pd.DataFrame(np.arange(16).reshape((4, 4)), \n",
    "                      index = ['Ohio', 'Colorada', 'Utah', 'New York'],\n",
    "                      columns = ['one', 'two', 'thre', 'four'])\n",
    "print(data_df)"
   ]
  },
  {
   "cell_type": "code",
   "execution_count": 3,
   "metadata": {},
   "outputs": [
    {
     "name": "stdout",
     "output_type": "stream",
     "text": [
      "          one  two  thre  four\n",
      "Ohio        0    1     2     3\n",
      "Colorada    4    5     6     7\n",
      "Utah        8    9    10    11\n",
      "New York   12   13    14    15\n",
      "          one  thre  four\n",
      "Ohio        0     2     3\n",
      "Colorada    4     6     7\n",
      "Utah        8    10    11\n",
      "New York   12    14    15\n"
     ]
    }
   ],
   "source": [
    "data_df = pd.DataFrame(np.arange(16).reshape((4, 4)), \n",
    "                      index = ['Ohio', 'Colorada', 'Utah', 'New York'],\n",
    "                      columns = ['one', 'two', 'thre', 'four'])\n",
    "print(data_df)\n",
    "\n",
    "# dataframe.drop method would return a new dataframe without\n",
    "# having deleted rows. so store its into to dataframe variable\n",
    "# or use in place = True while droping rows or column\n",
    "\n",
    "# data_df.drop values from the columns by passing axis = 1\n",
    "# or axis = 'columns' :\n",
    "data_df = data_df.drop('two', axis = 1)\n",
    "print(data_df)"
   ]
  },
  {
   "cell_type": "code",
   "execution_count": 6,
   "metadata": {},
   "outputs": [
    {
     "name": "stdout",
     "output_type": "stream",
     "text": [
      "          one  two  thre  four\n",
      "Ohio        0    1     2     3\n",
      "Colorada    4    5     6     7\n",
      "Utah        8    9    10    11\n",
      "New York   12   13    14    15\n",
      "          one  two  thre  four\n",
      "Colorada    4    5     6     7\n",
      "Utah        8    9    10    11\n",
      "New York   12   13    14    15\n"
     ]
    }
   ],
   "source": [
    "data_df = pd.DataFrame(np.arange(16).reshape((4, 4)), \n",
    "                      index = ['Ohio', 'Colorada', 'Utah', 'New York'],\n",
    "                      columns = ['one', 'two', 'thre', 'four'])\n",
    "print(data_df)\n",
    "\n",
    "# dataframe.drop method would return a new dataframe without\n",
    "# having deleted rows. so store its into to dataframe variable\n",
    "# or use in place = True while droping rows or column\n",
    "\n",
    "# data_df.drop values from the columns by passing axis = 1\n",
    "# or axis = 'columns' :\n",
    "data_df = data_df.drop('Ohio', axis = 0)\n",
    "print(data_df)"
   ]
  },
  {
   "cell_type": "code",
   "execution_count": 7,
   "metadata": {},
   "outputs": [
    {
     "name": "stdout",
     "output_type": "stream",
     "text": [
      "          one  two  thre  four\n",
      "Ohio        0    1     2     3\n",
      "Colorada    4    5     6     7\n",
      "Utah        8    9    10    11\n",
      "New York   12   13    14    15\n",
      "          thre  four\n",
      "Ohio         2     3\n",
      "Colorada     6     7\n",
      "Utah        10    11\n",
      "New York    14    15\n"
     ]
    }
   ],
   "source": [
    "data_df = pd.DataFrame(np.arange(16).reshape((4, 4)), \n",
    "                      index = ['Ohio', 'Colorada', 'Utah', 'New York'],\n",
    "                      columns = ['one', 'two', 'thre', 'four'])\n",
    "print(data_df)\n",
    "\n",
    "# dataframe.drop method would return a new dataframe without\n",
    "# having deleted rows. so store its into to dataframe variable\n",
    "# or use in place = True while droping rows or column\n",
    "\n",
    "# data_df.drop values from the columns by passing axis = 1\n",
    "# or axis = 'columns' :\n",
    "data_df = data_df.drop(['one','two'], axis = 1)\n",
    "print(data_df)"
   ]
  },
  {
   "cell_type": "code",
   "execution_count": 8,
   "metadata": {},
   "outputs": [
    {
     "name": "stdout",
     "output_type": "stream",
     "text": [
      "          one  two  thre  four\n",
      "Ohio        0    1     2     3\n",
      "Colorada    4    5     6     7\n",
      "Utah        8    9    10    11\n",
      "New York   12   13    14    15\n",
      "          one  two  thre  four\n",
      "Colorada    4    5     6     7\n",
      "New York   12   13    14    15\n"
     ]
    }
   ],
   "source": [
    "data_df = pd.DataFrame(np.arange(16).reshape((4, 4)), \n",
    "                      index = ['Ohio', 'Colorada', 'Utah', 'New York'],\n",
    "                      columns = ['one', 'two', 'thre', 'four'])\n",
    "print(data_df)\n",
    "\n",
    "# dataframe.drop method would return a new dataframe without\n",
    "# having deleted rows. so store its into to dataframe variable\n",
    "# or use in place = True while droping rows or column\n",
    "\n",
    "# data_df.drop values from the columns by passing axis = 1\n",
    "# or axis = 'columns' :\n",
    "data_df = data_df.drop(['Ohio', 'Utah'], axis = 0)\n",
    "print(data_df)"
   ]
  },
  {
   "cell_type": "code",
   "execution_count": 9,
   "metadata": {},
   "outputs": [
    {
     "name": "stdout",
     "output_type": "stream",
     "text": [
      "          one  two  thre  four\n",
      "Ohio        0    1     2     3\n",
      "Colorada    4    5     6     7\n",
      "Utah        8    9    10    11\n",
      "New York   12   13    14    15\n",
      "          one  two  thre  four\n",
      "Colorada    4    5     6     7\n"
     ]
    }
   ],
   "source": [
    "data_df = pd.DataFrame(np.arange(16).reshape((4, 4)), \n",
    "                      index = ['Ohio', 'Colorada', 'Utah', 'New York'],\n",
    "                      columns = ['one', 'two', 'thre', 'four'])\n",
    "print(data_df)\n",
    "\n",
    "# dataframe.drop method would return a new dataframe without\n",
    "# having deleted rows. so store its into to dataframe variable\n",
    "# or use in place = True while droping rows or column\n",
    "\n",
    "# data_df.drop values from the columns by passing axis = 1\n",
    "# or axis = 'columns' :\n",
    "data_df = data_df.drop(['Ohio', 'Utah', 'New York'], axis = 0)\n",
    "print(data_df)"
   ]
  },
  {
   "cell_type": "code",
   "execution_count": 11,
   "metadata": {},
   "outputs": [
    {
     "name": "stdout",
     "output_type": "stream",
     "text": [
      "          one  two  thre  four\n",
      "Ohio        0    1     2     3\n",
      "Colorada    4    5     6     7\n",
      "Utah        8    9    10    11\n",
      "New York   12   13    14    15\n",
      "          four\n",
      "Ohio         3\n",
      "Colorada     7\n",
      "Utah        11\n",
      "New York    15\n"
     ]
    }
   ],
   "source": [
    "data_df = pd.DataFrame(np.arange(16).reshape((4, 4)), \n",
    "                      index = ['Ohio', 'Colorada', 'Utah', 'New York'],\n",
    "                      columns = ['one', 'two', 'thre', 'four'])\n",
    "print(data_df)\n",
    "\n",
    "# dataframe.drop method would return a new dataframe without\n",
    "# having deleted rows. so store its into to dataframe variable\n",
    "# or use in place = True while droping rows or column\n",
    "\n",
    "#data_df.drop(['Colorado', 'Ohio'], inplace = True)\n",
    "#print(data_df)\n",
    "\n",
    "# data_df.drop values from the columns by passing axis = 1\n",
    "# or axis = 'columns' :\n",
    "data_df = data_df.drop(['one', 'two', 'thre'], axis = 1)\n",
    "print(data_df)"
   ]
  },
  {
   "cell_type": "code",
   "execution_count": 14,
   "metadata": {},
   "outputs": [
    {
     "name": "stdout",
     "output_type": "stream",
     "text": [
      "          one  two  thre  four\n",
      "Ohio        0    1     2     3\n",
      "Colorada    4    5     6     7\n",
      "Utah        8    9    10    11\n",
      "New York   12   13    14    15\n",
      "          one  two  thre  four\n",
      "Utah        8    9    10    11\n",
      "New York   12   13    14    15\n"
     ]
    }
   ],
   "source": [
    "data_df1 = pd.DataFrame(np.arange(16).reshape((4, 4)), \n",
    "                      index = ['Ohio', 'Colorada', 'Utah', 'New York'],\n",
    "                      columns = ['one', 'two', 'thre', 'four'])\n",
    "print(data_df1)\n",
    "\n",
    "# dataframe.drop method would return a new dataframe without\n",
    "# having deleted rows. so store its into to dataframe variable\n",
    "# or use in place = True while droping rows or column\n",
    "\n",
    "data_df1.drop(['Colorada', 'Ohio'], inplace = True)\n",
    "print(data_df1)"
   ]
  },
  {
   "cell_type": "code",
   "execution_count": 15,
   "metadata": {},
   "outputs": [
    {
     "name": "stdout",
     "output_type": "stream",
     "text": [
      "          one  two  thre  four\n",
      "Ohio        0    1     2     3\n",
      "Colorada    4    5     6     7\n",
      "Utah        8    9    10    11\n",
      "New York   12   13    14    15\n",
      "None\n"
     ]
    }
   ],
   "source": [
    "data_df = pd.DataFrame(np.arange(16).reshape((4, 4)), \n",
    "                      index = ['Ohio', 'Colorada', 'Utah', 'New York'],\n",
    "                      columns = ['one', 'two', 'thre', 'four'])\n",
    "print(data_df)\n",
    "\n",
    "# dataframe.drop method would return a new dataframe without\n",
    "# having deleted rows. so store its into to dataframe variable\n",
    "# or use in place = True while droping rows or column\n",
    "\n",
    "#data_df.drop(['Colorado', 'Ohio'], inplace = True)\n",
    "#print(data_df)\n",
    "\n",
    "# data_df.drop values from the columns by passing axis = 1\n",
    "# or axis = 'columns' :\n",
    "data_df = data_df.drop(['one', 'two', 'thre'], axis = 1, inplace = True)\n",
    "print(data_df)"
   ]
  },
  {
   "cell_type": "code",
   "execution_count": null,
   "metadata": {},
   "outputs": [],
   "source": []
  }
 ],
 "metadata": {
  "kernelspec": {
   "display_name": "Python 3",
   "language": "python",
   "name": "python3"
  },
  "language_info": {
   "codemirror_mode": {
    "name": "ipython",
    "version": 3
   },
   "file_extension": ".py",
   "mimetype": "text/x-python",
   "name": "python",
   "nbconvert_exporter": "python",
   "pygments_lexer": "ipython3",
   "version": "3.7.7"
  }
 },
 "nbformat": 4,
 "nbformat_minor": 4
}
