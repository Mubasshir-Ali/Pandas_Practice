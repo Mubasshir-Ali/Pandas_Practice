{
 "cells": [
  {
   "cell_type": "code",
   "execution_count": 1,
   "metadata": {},
   "outputs": [],
   "source": [
    "import numpy as np\n",
    "import pandas as pd"
   ]
  },
  {
   "cell_type": "code",
   "execution_count": 3,
   "metadata": {},
   "outputs": [
    {
     "name": "stdout",
     "output_type": "stream",
     "text": [
      "          one  two  three  four\n",
      "Ohio        0    1      2     3\n",
      "Colorada    4    5      6     7\n",
      "Utah        8    9     10    11\n",
      "New York   12   13     14    15 \n",
      "\n",
      "two      5\n",
      "three    6\n",
      "Name: Colorada, dtype: int32\n",
      "\n",
      "\n",
      "four    11\n",
      "one      8\n",
      "two      9\n",
      "Name: Utah, dtype: int32\n",
      "          one  two  three  four\n",
      "Ohio        0    1      2     3\n",
      "Colorada    4    5      6     7\n",
      "Utah        8    9     10    11\n",
      "New York   12   13     14    15\n",
      "          one  two  three\n",
      "Ohio        0    1      2\n",
      "Colorada    4    5      6\n",
      "Utah        8    9     10\n",
      "New York   12   13     14\n",
      "          one  two  three  four\n",
      "Ohio        0    1      2     3\n",
      "Colorada    4    5      6     7\n"
     ]
    },
    {
     "data": {
      "text/plain": [
       "[Ohio        False\n",
       " Colorada     True\n",
       " Utah         True\n",
       " New York     True\n",
       " Name: three, dtype: bool]"
      ]
     },
     "execution_count": 3,
     "metadata": {},
     "output_type": "execute_result"
    }
   ],
   "source": [
    "# create DataFrame name data_df\n",
    "data_df = pd.DataFrame(np.arange(16).reshape((4,4)), \n",
    "                      index = ['Ohio', 'Colorada', 'Utah', 'New York'], \n",
    "                      columns = ['one', 'two', 'three', 'four'])\n",
    "\n",
    "print(data_df, \"\\n\")\n",
    "# in the loc method specify row label\n",
    "# then specify column names\n",
    "# remember! multiple column names require array notation\n",
    "print(data_df.loc['Colorada', ['two', 'three']])\n",
    "print(\"\\n\")\n",
    "print(data_df.iloc[2, [3, 0, 1]])\n",
    "print(data_df.iloc[:])\n",
    "print(data_df.iloc[ : , :3])\n",
    "print(data_df.iloc[:2])\n",
    "[data_df.three > 5]"
   ]
  },
  {
   "cell_type": "code",
   "execution_count": 4,
   "metadata": {},
   "outputs": [
    {
     "name": "stdout",
     "output_type": "stream",
     "text": [
      "two      5\n",
      "three    6\n",
      "Name: Colorada, dtype: int32\n"
     ]
    }
   ],
   "source": [
    "# create DataFrame name data_df\n",
    "data_df = pd.DataFrame(np.arange(16).reshape((4,4)), \n",
    "                      index = ['Ohio', 'Colorada', 'Utah', 'New York'], \n",
    "                      columns = ['one', 'two', 'three', 'four'])\n",
    "\n",
    "#print(data_df, \"\\n\")\n",
    "# in the loc method specify row label\n",
    "# then specify column names\n",
    "# remember! multiple column names require array notation\n",
    "print(data_df.loc['Colorada', ['two', 'three']])\n",
    "#print(\"\\n\")\n",
    "#print(data_df.iloc[2, [3, 0, 1]])\n",
    "#print(data_df.iloc[:])\n",
    "#print(data_df.iloc[ : , :3])\n",
    "#print(data_df.iloc[:2])\n",
    "#[data_df.three > 5]"
   ]
  },
  {
   "cell_type": "code",
   "execution_count": 5,
   "metadata": {},
   "outputs": [
    {
     "name": "stdout",
     "output_type": "stream",
     "text": [
      "          two  three\n",
      "Colorada    5      6\n",
      "Ohio        1      2\n"
     ]
    }
   ],
   "source": [
    "# create DataFrame name data_df\n",
    "data_df = pd.DataFrame(np.arange(16).reshape((4,4)), \n",
    "                      index = ['Ohio', 'Colorada', 'Utah', 'New York'], \n",
    "                      columns = ['one', 'two', 'three', 'four'])\n",
    "\n",
    "#print(data_df, \"\\n\")\n",
    "# in the loc method specify row label\n",
    "# then specify column names\n",
    "# remember! multiple column names require array notation\n",
    "print(data_df.loc[['Colorada', 'Ohio'], ['two', 'three']])\n",
    "#print(\"\\n\")\n",
    "#print(data_df.iloc[2, [3, 0, 1]])\n",
    "#print(data_df.iloc[:])\n",
    "#print(data_df.iloc[ : , :3])\n",
    "#print(data_df.iloc[:2])\n",
    "#[data_df.three > 5]"
   ]
  },
  {
   "cell_type": "code",
   "execution_count": 12,
   "metadata": {},
   "outputs": [
    {
     "name": "stdout",
     "output_type": "stream",
     "text": [
      "          two  three\n",
      "Colorada    5      6\n",
      "Ohio        1      2\n",
      "Utah        9     10\n"
     ]
    }
   ],
   "source": [
    "# create DataFrame name data_df\n",
    "data_df = pd.DataFrame(np.arange(16).reshape((4,4)), \n",
    "                      index = ['Ohio', 'Colorada', 'Utah', 'New York'], \n",
    "                      columns = ['one', 'two', 'three', 'four'])\n",
    "\n",
    "#print(data_df, \"\\n\")\n",
    "# in the loc method specify row label\n",
    "# then specify column names\n",
    "# remember! multiple column names require array notation\n",
    "print(data_df.loc[['Colorada', 'Ohio', 'Utah'], ['two', 'three']])\n",
    "#print(\"\\n\")\n",
    "#print(data_df.iloc[2, [3, 0, 1]])\n",
    "#print(data_df.iloc[:])\n",
    "#print(data_df.iloc[ : , :3])\n",
    "#print(data_df.iloc[:2])\n",
    "#[data_df.three > 5]"
   ]
  },
  {
   "cell_type": "code",
   "execution_count": 13,
   "metadata": {},
   "outputs": [
    {
     "name": "stdout",
     "output_type": "stream",
     "text": [
      "          two  three\n",
      "Colorada    5      6\n",
      "Ohio        1      2\n",
      "Utah        9     10\n",
      "New York   13     14\n"
     ]
    }
   ],
   "source": [
    "# create DataFrame name data_df\n",
    "data_df = pd.DataFrame(np.arange(16).reshape((4,4)), \n",
    "                      index = ['Ohio', 'Colorada', 'Utah', 'New York'], \n",
    "                      columns = ['one', 'two', 'three', 'four'])\n",
    "\n",
    "#print(data_df, \"\\n\")\n",
    "# in the loc method specify row label\n",
    "# then specify column names\n",
    "# remember! multiple column names require array notation\n",
    "print(data_df.loc[['Colorada', 'Ohio', 'Utah', 'New York'], ['two', 'three']])\n",
    "#print(\"\\n\")\n",
    "#print(data_df.iloc[2, [3, 0, 1]])\n",
    "#print(data_df.iloc[:])\n",
    "#print(data_df.iloc[ : , :3])\n",
    "#print(data_df.iloc[:2])\n",
    "#[data_df.three > 5]"
   ]
  },
  {
   "cell_type": "code",
   "execution_count": 6,
   "metadata": {},
   "outputs": [
    {
     "name": "stdout",
     "output_type": "stream",
     "text": [
      "          one  two  three  four\n",
      "Ohio        0    1      2     3\n",
      "Colorada    4    5      6     7\n",
      "Utah        8    9     10    11\n",
      "New York   12   13     14    15 \n",
      "\n",
      "four    11\n",
      "one      8\n",
      "two      9\n",
      "Name: Utah, dtype: int32\n"
     ]
    }
   ],
   "source": [
    "# create DataFrame name data_df\n",
    "data_df = pd.DataFrame(np.arange(16).reshape((4,4)), \n",
    "                      index = ['Ohio', 'Colorada', 'Utah', 'New York'], \n",
    "                      columns = ['one', 'two', 'three', 'four'])\n",
    "\n",
    "print(data_df, \"\\n\")\n",
    "# in the loc method specify row label\n",
    "# then specify column names\n",
    "# remember! multiple column names require array notation\n",
    "#print(data_df.loc[['Colorada', 'Ohio'], ['two', 'three']])\n",
    "#print(\"\\n\")\n",
    "\n",
    "# when using iloc then using numbers\n",
    "print(data_df.iloc[2, [3, 0, 1]])\n",
    "#print(data_df.iloc[:])\n",
    "#print(data_df.iloc[ : , :3])\n",
    "#print(data_df.iloc[:2])\n",
    "#[data_df.three > 5]"
   ]
  },
  {
   "cell_type": "code",
   "execution_count": 8,
   "metadata": {},
   "outputs": [
    {
     "name": "stdout",
     "output_type": "stream",
     "text": [
      "          one  two  three  four\n",
      "Ohio        0    1      2     3\n",
      "Colorada    4    5      6     7\n",
      "Utah        8    9     10    11\n",
      "New York   12   13     14    15 \n",
      "\n",
      "          one  two  three  four\n",
      "Ohio        0    1      2     3\n",
      "Colorada    4    5      6     7\n",
      "Utah        8    9     10    11\n",
      "New York   12   13     14    15\n"
     ]
    }
   ],
   "source": [
    "# create DataFrame name data_df\n",
    "data_df = pd.DataFrame(np.arange(16).reshape((4,4)), \n",
    "                      index = ['Ohio', 'Colorada', 'Utah', 'New York'], \n",
    "                      columns = ['one', 'two', 'three', 'four'])\n",
    "\n",
    "print(data_df, \"\\n\")\n",
    "# in the loc method specify row label\n",
    "# then specify column names\n",
    "# remember! multiple column names require array notation\n",
    "#print(data_df.loc[['Colorada', 'Ohio'], ['two', 'three']])\n",
    "#print(\"\\n\")\n",
    "\n",
    "# when using iloc then using numbers\n",
    "#print(data_df.iloc[2, [3, 0, 1]])\n",
    "print(data_df.iloc[:])\n",
    "#print(data_df.iloc[ : , :3])\n",
    "#print(data_df.iloc[:2])\n",
    "#[data_df.three > 5]"
   ]
  },
  {
   "cell_type": "code",
   "execution_count": 9,
   "metadata": {},
   "outputs": [
    {
     "name": "stdout",
     "output_type": "stream",
     "text": [
      "          one  two  three  four\n",
      "Ohio        0    1      2     3\n",
      "Colorada    4    5      6     7\n",
      "Utah        8    9     10    11\n",
      "New York   12   13     14    15 \n",
      "\n",
      "          one  two  three\n",
      "Ohio        0    1      2\n",
      "Colorada    4    5      6\n",
      "Utah        8    9     10\n",
      "New York   12   13     14\n"
     ]
    }
   ],
   "source": [
    "# create DataFrame name data_df\n",
    "data_df = pd.DataFrame(np.arange(16).reshape((4,4)), \n",
    "                      index = ['Ohio', 'Colorada', 'Utah', 'New York'], \n",
    "                      columns = ['one', 'two', 'three', 'four'])\n",
    "\n",
    "print(data_df, \"\\n\")\n",
    "# in the loc method specify row label\n",
    "# then specify column names\n",
    "# remember! multiple column names require array notation\n",
    "#print(data_df.loc[['Colorada', 'Ohio'], ['two', 'three']])\n",
    "#print(\"\\n\")\n",
    "\n",
    "# when using iloc then using numbers\n",
    "#print(data_df.iloc[2, [3, 0, 1]])\n",
    "#print(data_df.iloc[:])\n",
    "print(data_df.iloc[ : , :3])\n",
    "#print(data_df.iloc[:2])\n",
    "#[data_df.three > 5]"
   ]
  },
  {
   "cell_type": "code",
   "execution_count": 10,
   "metadata": {},
   "outputs": [
    {
     "name": "stdout",
     "output_type": "stream",
     "text": [
      "          one  two  three  four\n",
      "Ohio        0    1      2     3\n",
      "Colorada    4    5      6     7\n",
      "Utah        8    9     10    11\n",
      "New York   12   13     14    15 \n",
      "\n",
      "          one  two  three  four\n",
      "Ohio        0    1      2     3\n",
      "Colorada    4    5      6     7\n"
     ]
    }
   ],
   "source": [
    "# create DataFrame name data_df\n",
    "data_df = pd.DataFrame(np.arange(16).reshape((4,4)), \n",
    "                      index = ['Ohio', 'Colorada', 'Utah', 'New York'], \n",
    "                      columns = ['one', 'two', 'three', 'four'])\n",
    "\n",
    "print(data_df, \"\\n\")\n",
    "# in the loc method specify row label\n",
    "# then specify column names\n",
    "# remember! multiple column names require array notation\n",
    "#print(data_df.loc[['Colorada', 'Ohio'], ['two', 'three']])\n",
    "#print(\"\\n\")\n",
    "\n",
    "# when using iloc then using numbers\n",
    "#print(data_df.iloc[2, [3, 0, 1]])\n",
    "#print(data_df.iloc[:])\n",
    "#print(data_df.iloc[ : , :3])\n",
    "print(data_df.iloc[:2])\n",
    "#[data_df.three > 5]"
   ]
  },
  {
   "cell_type": "code",
   "execution_count": 11,
   "metadata": {},
   "outputs": [
    {
     "name": "stdout",
     "output_type": "stream",
     "text": [
      "          one  two  three  four\n",
      "Ohio        0    1      2     3\n",
      "Colorada    4    5      6     7\n",
      "Utah        8    9     10    11\n",
      "New York   12   13     14    15 \n",
      "\n"
     ]
    },
    {
     "data": {
      "text/plain": [
       "[Ohio        False\n",
       " Colorada     True\n",
       " Utah         True\n",
       " New York     True\n",
       " Name: three, dtype: bool]"
      ]
     },
     "execution_count": 11,
     "metadata": {},
     "output_type": "execute_result"
    }
   ],
   "source": [
    "# create DataFrame name data_df\n",
    "data_df = pd.DataFrame(np.arange(16).reshape((4,4)), \n",
    "                      index = ['Ohio', 'Colorada', 'Utah', 'New York'], \n",
    "                      columns = ['one', 'two', 'three', 'four'])\n",
    "\n",
    "print(data_df, \"\\n\")\n",
    "# in the loc method specify row label\n",
    "# then specify column names\n",
    "# remember! multiple column names require array notation\n",
    "#print(data_df.loc[['Colorada', 'Ohio'], ['two', 'three']])\n",
    "#print(\"\\n\")\n",
    "\n",
    "# when using iloc then using numbers\n",
    "#print(data_df.iloc[2, [3, 0, 1]])\n",
    "#print(data_df.iloc[:])\n",
    "#print(data_df.iloc[ : , :3])\n",
    "#print(data_df.iloc[:2])\n",
    "[data_df.three > 5]"
   ]
  },
  {
   "cell_type": "code",
   "execution_count": 14,
   "metadata": {},
   "outputs": [
    {
     "name": "stdout",
     "output_type": "stream",
     "text": [
      "          one  two  three  four\n",
      "Ohio        0    1      2     3\n",
      "Colorada    4    5      6     7\n",
      "Utah        8    9     10    11\n",
      "New York   12   13     14    15 \n",
      "\n",
      "          one  two  three\n",
      "Ohio        0    1      2\n",
      "Colorada    4    5      6\n",
      "Utah        8    9     10\n",
      "New York   12   13     14\n"
     ]
    }
   ],
   "source": [
    "# create DataFrame name data_df\n",
    "data_df = pd.DataFrame(np.arange(16).reshape((4,4)), \n",
    "                      index = ['Ohio', 'Colorada', 'Utah', 'New York'], \n",
    "                      columns = ['one', 'two', 'three', 'four'])\n",
    "\n",
    "print(data_df, \"\\n\")\n",
    "# in the loc method specify row label\n",
    "# then specify column names\n",
    "# remember! multiple column names require array notation\n",
    "#print(data_df.loc[['Colorada', 'Ohio'], ['two', 'three']])\n",
    "#print(\"\\n\")\n",
    "\n",
    "# when using iloc then using numbers\n",
    "#print(data_df.iloc[2, [3, 0, 1]])\n",
    "#print(data_df.iloc[:])\n",
    "#print(data_df.iloc[ : , :3])\n",
    "print(data_df.iloc[:, :3])\n",
    "#[data_df.three > 5]"
   ]
  },
  {
   "cell_type": "markdown",
   "metadata": {},
   "source": [
    "# Arithmetic And Data Alignment"
   ]
  },
  {
   "cell_type": "code",
   "execution_count": 18,
   "metadata": {},
   "outputs": [
    {
     "name": "stdout",
     "output_type": "stream",
     "text": [
      "            b    c    d\n",
      "Ohio      0.0  1.0  2.0\n",
      "Texas     3.0  4.0  5.0\n",
      "Colorado  6.0  7.0  8.0\n",
      "          b     d     e\n",
      "Utah    0.0   1.0   2.0\n",
      "Ohio    3.0   4.0   5.0\n",
      "Texas   6.0   7.0   8.0\n",
      "Oregon  9.0  10.0  11.0\n",
      "\n",
      "            b   c     d   e\n",
      "Colorado  NaN NaN   NaN NaN\n",
      "Ohio      3.0 NaN   6.0 NaN\n",
      "Oregon    NaN NaN   NaN NaN\n",
      "Texas     9.0 NaN  12.0 NaN\n",
      "Utah      NaN NaN   NaN NaN\n"
     ]
    }
   ],
   "source": [
    "#print(list('bcd'))\n",
    "df1 = pd.DataFrame(np.arange(9.).reshape((3, 3)),\n",
    "                  columns = list('bcd'), \n",
    "                  index = ['Ohio', 'Texas', 'Colorado'])\n",
    "\n",
    "df2 = pd.DataFrame(np.arange(12.).reshape((4, 3)),\n",
    "                  columns = list('bde'), \n",
    "                  index = ['Utah', 'Ohio', 'Texas', 'Oregon'])\n",
    "\n",
    "print(df1)\n",
    "print(df2)\n",
    "print()\n",
    "\n",
    "# applying plus operation between two data frames\n",
    "df3 = df1 + df2\n",
    "\n",
    "print(df3)\n",
    "# your work is to fill all NaN values of this df3 with a number,\n",
    "# choice of number is yoursS"
   ]
  },
  {
   "cell_type": "code",
   "execution_count": 19,
   "metadata": {},
   "outputs": [
    {
     "name": "stdout",
     "output_type": "stream",
     "text": [
      "            b    c    d\n",
      "Ohio      0.0  1.0  2.0\n",
      "Texas     3.0  4.0  5.0\n",
      "Colorado  6.0  7.0  8.0\n",
      "\n"
     ]
    }
   ],
   "source": [
    "#print(list('bcd'))\n",
    "df1 = pd.DataFrame(np.arange(9.).reshape((3, 3)),\n",
    "                  columns = list('bcd'), \n",
    "                  index = ['Ohio', 'Texas', 'Colorado'])\n",
    "\n",
    "\n",
    "print(df1)\n",
    "print()"
   ]
  },
  {
   "cell_type": "code",
   "execution_count": 20,
   "metadata": {},
   "outputs": [
    {
     "name": "stdout",
     "output_type": "stream",
     "text": [
      "          b     d     e\n",
      "Utah    0.0   1.0   2.0\n",
      "Ohio    3.0   4.0   5.0\n",
      "Texas   6.0   7.0   8.0\n",
      "Oregon  9.0  10.0  11.0\n",
      "\n"
     ]
    }
   ],
   "source": [
    "#print(list('bcd'))\n",
    "df2 = pd.DataFrame(np.arange(12.).reshape((4, 3)),\n",
    "                  columns = list('bde'), \n",
    "                  index = ['Utah', 'Ohio', 'Texas', 'Oregon'])\n",
    "\n",
    "print(df2)\n",
    "print()"
   ]
  },
  {
   "cell_type": "code",
   "execution_count": 21,
   "metadata": {},
   "outputs": [
    {
     "name": "stdout",
     "output_type": "stream",
     "text": [
      "            b   c     d   e\n",
      "Colorado  NaN NaN   NaN NaN\n",
      "Ohio      3.0 NaN   6.0 NaN\n",
      "Oregon    NaN NaN   NaN NaN\n",
      "Texas     9.0 NaN  12.0 NaN\n",
      "Utah      NaN NaN   NaN NaN\n"
     ]
    }
   ],
   "source": [
    "#print(list('bcd'))\n",
    "df1 = pd.DataFrame(np.arange(9.).reshape((3, 3)),\n",
    "                  columns = list('bcd'), \n",
    "                  index = ['Ohio', 'Texas', 'Colorado'])\n",
    "\n",
    "df2 = pd.DataFrame(np.arange(12.).reshape((4, 3)),\n",
    "                  columns = list('bde'), \n",
    "                  index = ['Utah', 'Ohio', 'Texas', 'Oregon'])\n",
    "\n",
    "# applying plus operation between two data frames\n",
    "df3 = df1 + df2\n",
    "\n",
    "print(df3)\n",
    "# your work is to fill all NaN values of this df3 with a number,\n",
    "# choice of number is yoursS"
   ]
  }
 ],
 "metadata": {
  "kernelspec": {
   "display_name": "Python 3",
   "language": "python",
   "name": "python3"
  },
  "language_info": {
   "codemirror_mode": {
    "name": "ipython",
    "version": 3
   },
   "file_extension": ".py",
   "mimetype": "text/x-python",
   "name": "python",
   "nbconvert_exporter": "python",
   "pygments_lexer": "ipython3",
   "version": "3.7.7"
  }
 },
 "nbformat": 4,
 "nbformat_minor": 4
}
