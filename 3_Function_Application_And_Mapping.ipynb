{
 "cells": [
  {
   "cell_type": "code",
   "execution_count": 1,
   "metadata": {},
   "outputs": [],
   "source": [
    "import numpy as np\n",
    "import pandas as pd"
   ]
  },
  {
   "cell_type": "code",
   "execution_count": 4,
   "metadata": {},
   "outputs": [
    {
     "name": "stdout",
     "output_type": "stream",
     "text": [
      "               b         d         e\n",
      "Utah    0.725335  0.028474  0.504551\n",
      "Ohio    0.362546  0.626574  0.190995\n",
      "texas   0.848146  0.735370  0.472889\n",
      "Oregon  0.945272  0.626561  0.806314\n",
      "               b         d         e\n",
      "Utah    0.725335  0.028474  0.504551\n",
      "Ohio    0.362546  0.626574  0.190995\n",
      "texas   0.848146  0.735370  0.472889\n",
      "Oregon  0.945272  0.626561  0.806314\n",
      "0.028473707949475013\n",
      "0.7353704830471162\n",
      "0.7068967750976412\n",
      "b    0.582726\n",
      "d    0.706897\n",
      "e    0.615319\n",
      "dtype: float64 <class 'pandas.core.series.Series'>\n",
      "Utah      0.696861\n",
      "Ohio      0.435579\n",
      "texas     0.375257\n",
      "Oregon    0.318711\n",
      "dtype: float64\n",
      "            b         d         e\n",
      "min  0.362546  0.028474  0.190995\n",
      "max  0.945272  0.735370  0.806314 <class 'pandas.core.frame.DataFrame'>\n"
     ]
    }
   ],
   "source": [
    "# create DataFrame name frame\n",
    "# this section run whole program\n",
    "# below sections run portion wise program\n",
    "frame = frame = pd.DataFrame(np.random.rand(4, 3), \n",
    "                             columns = list('bde'), \n",
    "                             index = ['Utah', 'Ohio', 'texas', 'Oregon'])\n",
    "print(frame)\n",
    "# abs function convert negative value in positive value\n",
    "print(np.abs(frame))\n",
    "\n",
    "# find minimum value\n",
    "print(frame[\"d\"]. min())\n",
    "\n",
    "# find maximum value\n",
    "print(frame[\"d\"]. max())\n",
    "\n",
    "# substract max-min value\n",
    "print(frame[\"d\"]. max() - frame[\"d\"]. min())\n",
    "\n",
    "# create lambda function\n",
    "f = lambda x: x.max() - x.min()\n",
    "\n",
    "# apply f function\n",
    "df = frame.apply(f)\n",
    "print(df, type(df))\n",
    "df = frame.apply(f, axis = 1)\n",
    "print(df)\n",
    "\n",
    "# create functin min_max\n",
    "def min_max(x):\n",
    "    minimun = x.min()\n",
    "    maximum = x.max()\n",
    "    return pd.Series([x.min(), x.max()], index = ['min', 'max'])\n",
    "\n",
    "df = frame.apply(min_max)\n",
    "print(df, type(df))"
   ]
  },
  {
   "cell_type": "code",
   "execution_count": 5,
   "metadata": {},
   "outputs": [
    {
     "name": "stdout",
     "output_type": "stream",
     "text": [
      "               b         d         e\n",
      "Utah    0.187660  0.606008  0.039202\n",
      "Ohio    0.784814  0.456981  0.576053\n",
      "texas   0.442798  0.180154  0.801838\n",
      "Oregon  0.394520  0.848257  0.545639\n",
      "               b         d         e\n",
      "Utah    0.187660  0.606008  0.039202\n",
      "Ohio    0.784814  0.456981  0.576053\n",
      "texas   0.442798  0.180154  0.801838\n",
      "Oregon  0.394520  0.848257  0.545639\n"
     ]
    }
   ],
   "source": [
    "# create DataFrame name frame\n",
    "frame = frame = pd.DataFrame(np.random.rand(4, 3), \n",
    "                             columns = list('bde'), \n",
    "                             index = ['Utah', 'Ohio', 'texas', 'Oregon'])\n",
    "print(frame)\n",
    "# abs function convert negative value in positive value\n",
    "print(np.abs(frame))"
   ]
  },
  {
   "cell_type": "code",
   "execution_count": 6,
   "metadata": {},
   "outputs": [
    {
     "name": "stdout",
     "output_type": "stream",
     "text": [
      "0.10480556840202626\n",
      "0.8608578228478277\n",
      "0.7560522544458015\n"
     ]
    }
   ],
   "source": [
    "# create DataFrame name frame\n",
    "frame = frame = pd.DataFrame(np.random.rand(4, 3), \n",
    "                             columns = list('bde'), \n",
    "                             index = ['Utah', 'Ohio', 'texas', 'Oregon'])\n",
    "\n",
    "# find minimum value\n",
    "print(frame[\"d\"]. min())\n",
    "\n",
    "# find maximum value\n",
    "print(frame[\"d\"]. max())\n",
    "\n",
    "# substract max-min value\n",
    "print(frame[\"d\"]. max() - frame[\"d\"]. min())\n",
    "\n",
    "\n",
    "\n",
    "     \n"
   ]
  },
  {
   "cell_type": "code",
   "execution_count": 9,
   "metadata": {},
   "outputs": [
    {
     "name": "stdout",
     "output_type": "stream",
     "text": [
      "<function <lambda> at 0x000001624A912D38>\n"
     ]
    }
   ],
   "source": [
    "# create DataFrame name frame\n",
    "frame = frame = pd.DataFrame(np.random.rand(4, 3), \n",
    "                             columns = list('bde'), \n",
    "                             index = ['Utah', 'Ohio', 'texas', 'Oregon'])\n",
    "\n",
    "# create lambda function\n",
    "# if you don't use any name to save the function\n",
    "f = lambda x: x.max() - x.min()\n",
    "print(f)"
   ]
  },
  {
   "cell_type": "code",
   "execution_count": 10,
   "metadata": {},
   "outputs": [
    {
     "name": "stdout",
     "output_type": "stream",
     "text": [
      "b    0.490101\n",
      "d    0.611345\n",
      "e    0.809323\n",
      "dtype: float64 <class 'pandas.core.series.Series'>\n",
      "Utah      0.481067\n",
      "Ohio      0.659837\n",
      "texas     0.761851\n",
      "Oregon    0.911829\n",
      "dtype: float64\n"
     ]
    }
   ],
   "source": [
    "# create DataFrame name frame\n",
    "frame = frame = pd.DataFrame(np.random.rand(4, 3), \n",
    "                             columns = list('bde'), \n",
    "                             index = ['Utah', 'Ohio', 'texas', 'Oregon'])\n",
    "\n",
    "# apply f function\n",
    "# print column wise\n",
    "df = frame.apply(f)\n",
    "print(df, type(df))\n",
    "df = frame.apply(f, axis = 1)\n",
    "print(df)"
   ]
  },
  {
   "cell_type": "code",
   "execution_count": 12,
   "metadata": {},
   "outputs": [
    {
     "name": "stdout",
     "output_type": "stream",
     "text": [
      "b    0.812209\n",
      "d    0.895612\n",
      "e    0.750192\n",
      "dtype: float64 <class 'pandas.core.series.Series'>\n",
      "b    0.812209\n",
      "d    0.895612\n",
      "e    0.750192\n",
      "dtype: float64\n"
     ]
    }
   ],
   "source": [
    "# create DataFrame name frame\n",
    "frame = frame = pd.DataFrame(np.random.rand(4, 3), \n",
    "                             columns = list('bde'), \n",
    "                             index = ['Utah', 'Ohio', 'texas', 'Oregon'])\n",
    "\n",
    "# apply f function\n",
    "# print row wise\n",
    "df = frame.apply(f)\n",
    "print(df, type(df))\n",
    "df = frame.apply(f, axis = 0)\n",
    "print(df)"
   ]
  },
  {
   "cell_type": "code",
   "execution_count": 11,
   "metadata": {},
   "outputs": [
    {
     "name": "stdout",
     "output_type": "stream",
     "text": [
      "           b         d        e\n",
      "min  0.23465  0.036183  0.04866\n",
      "max  0.88686  0.783498  0.79978 <class 'pandas.core.frame.DataFrame'>\n"
     ]
    }
   ],
   "source": [
    "# create DataFrame name frame\n",
    "frame = frame = pd.DataFrame(np.random.rand(4, 3), \n",
    "                             columns = list('bde'), \n",
    "                             index = ['Utah', 'Ohio', 'texas', 'Oregon'])\n",
    "\n",
    "# create functin min_max\n",
    "def min_max(x):\n",
    "    minimun = x.min()\n",
    "    maximum = x.max()\n",
    "    return pd.Series([x.min(), x.max()], index = ['min', 'max'])\n",
    "\n",
    "df = frame.apply(min_max)\n",
    "print(df, type(df))\n",
    "\n",
    "     \n"
   ]
  },
  {
   "cell_type": "code",
   "execution_count": 13,
   "metadata": {},
   "outputs": [
    {
     "name": "stdout",
     "output_type": "stream",
     "text": [
      "            b         d         e\n",
      "min  0.013278  0.088257  0.147866\n",
      "max  0.797863  0.428367  0.777174 <class 'pandas.core.frame.DataFrame'>\n"
     ]
    }
   ],
   "source": [
    "# create DataFrame name frame\n",
    "frame = frame = pd.DataFrame(np.random.rand(4, 3), \n",
    "                             columns = list('bde'), \n",
    "                             index = ['Utah', 'Ohio', 'texas', 'Oregon'])\n",
    "\n",
    "# create functin min_max\n",
    "def min_max(x):\n",
    "    # minimun = x.min() we can use min max directly\n",
    "    # maximum = x.max()\n",
    "    return pd.Series([x.min(), x.max()], index = ['min', 'max'])\n",
    "\n",
    "df = frame.apply(min_max)\n",
    "print(df, type(df))\n",
    "\n",
    "     \n"
   ]
  },
  {
   "cell_type": "markdown",
   "metadata": {},
   "source": [
    "# Sorting and Ranking"
   ]
  },
  {
   "cell_type": "code",
   "execution_count": 18,
   "metadata": {},
   "outputs": [
    {
     "name": "stdout",
     "output_type": "stream",
     "text": [
      "       d  a  b  c\n",
      "three  0  1  2  3\n",
      "one    4  5  6  7\n",
      "Wall time: 2 ms\n",
      "\n",
      "       d  c  b  a\n",
      "three  0  3  2  1\n",
      "one    4  7  6  5\n",
      "\n",
      "       d  a  b  c\n",
      "one    4  5  6  7\n",
      "three  0  1  2  3\n"
     ]
    }
   ],
   "source": [
    "# create DataFrame name frame1\n",
    "frame1 = pd.DataFrame(np.arange(8).reshape((2,4)), \n",
    "                      index = ['three', 'one'], \n",
    "                      columns = ['d', 'a', 'b', 'c'])\n",
    "\n",
    "print(frame1)\n",
    "print()\n",
    "\n",
    "# sorting index using column wise\n",
    "print(frame1.sort_index(axis = 1, ascending = False))\n",
    "print()\n",
    "print( frame1.sort_index() ) # default in sort: axis = 0, ascending = True"
   ]
  },
  {
   "cell_type": "code",
   "execution_count": 20,
   "metadata": {},
   "outputs": [
    {
     "name": "stdout",
     "output_type": "stream",
     "text": [
      "       d  a  b  c\n",
      "three  0  1  2  3\n",
      "one    4  5  6  7\n",
      "         d    a    b    c\n",
      "three  2.0  2.0  2.0  2.0\n",
      "one    1.0  1.0  1.0  1.0\n",
      "         d    a    b    c\n",
      "three  1.0  1.0  1.0  1.0\n",
      "one    2.0  2.0  2.0  2.0\n",
      "         d    a    b    c\n",
      "three  1.0  2.0  3.0  4.0\n",
      "one    1.0  2.0  3.0  4.0\n"
     ]
    }
   ],
   "source": [
    "# Sort by Values\n",
    "print(frame1.sort_values(by = 'b'))\n",
    "\n",
    "# ranking ascending = False and maximum value top\n",
    "print(frame1.rank(ascending = False, method = 'max'))\n",
    "\n",
    "# ranking ascending = True and minimum value top\n",
    "print(frame1.rank(ascending = True, method = 'min'))\n",
    "print(frame1.rank(axis = 'columns'))"
   ]
  },
  {
   "cell_type": "code",
   "execution_count": 22,
   "metadata": {},
   "outputs": [
    {
     "name": "stdout",
     "output_type": "stream",
     "text": [
      "    one  two\n",
      "a  1.40  NaN\n",
      "b  7.10 -4.5\n",
      "c   NaN  NaN\n",
      "d  0.75 -1.3\n",
      "\n",
      "one    9.25\n",
      "two   -5.80\n",
      "dtype: float64\n",
      "\n",
      "a    1.40\n",
      "b    2.60\n",
      "c    0.00\n",
      "d   -0.55\n",
      "dtype: float64\n"
     ]
    }
   ],
   "source": [
    "# Summarizing and Computing Descriptive Statistics\n",
    "# create DataFrame name df\n",
    "\n",
    "df = pd.DataFrame([[1.4, np.nan], [7.1, -4.5], [np.nan, np.nan], [0.75, -1.3]], \n",
    "                  index = ['a', 'b', 'c', 'd'], \n",
    "                  columns = ['one', 'two'])\n",
    "\n",
    "print(df)\n",
    "print()\n",
    "\n",
    "# print df with sum\n",
    "print(df.sum())\n",
    "print()\n",
    "\n",
    "# print df with sum and axis = column\n",
    "print(df.sum(axis = 'columns'))\n",
    "      \n",
    "# note: use of skipna"
   ]
  },
  {
   "cell_type": "code",
   "execution_count": 24,
   "metadata": {},
   "outputs": [
    {
     "name": "stdout",
     "output_type": "stream",
     "text": [
      "    one  two\n",
      "a  1.40  NaN\n",
      "b  7.10 -4.5\n",
      "c   NaN  NaN\n",
      "d  0.75 -1.3\n",
      "\n",
      "a      NaN\n",
      "b    1.300\n",
      "c      NaN\n",
      "d   -0.275\n",
      "dtype: float64\n"
     ]
    }
   ],
   "source": [
    "print(df)\n",
    "\n",
    "# find df mean with column axis\n",
    "# skipna = False mean skip skip NaN bydefault it is true\n",
    "x = df.mean(axis = 'columns', skipna = False)\n",
    "print()\n",
    "print(x)"
   ]
  },
  {
   "cell_type": "code",
   "execution_count": 25,
   "metadata": {},
   "outputs": [
    {
     "name": "stdout",
     "output_type": "stream",
     "text": [
      "    one  two\n",
      "a  1.40  NaN\n",
      "b  7.10 -4.5\n",
      "c   NaN  NaN\n",
      "d  0.75 -1.3\n",
      "\n",
      "a    1.400\n",
      "b    1.300\n",
      "c      NaN\n",
      "d   -0.275\n",
      "dtype: float64\n"
     ]
    }
   ],
   "source": [
    "print(df)\n",
    "\n",
    "# find df mean with column axis\n",
    "# skipna = False mean skip skip NaN bydefault it is true\n",
    "y = df.mean(axis = 'columns', skipna = True)\n",
    "print()\n",
    "print(y)"
   ]
  },
  {
   "cell_type": "code",
   "execution_count": 30,
   "metadata": {},
   "outputs": [
    {
     "name": "stdout",
     "output_type": "stream",
     "text": [
      "    one  two  three  four\n",
      "a  1.40  1.4    1.5   NaN\n",
      "b  7.10 -4.5    1.5   1.4\n",
      "c  1.40  NaN    0.5   NaN\n",
      "d  0.75 -1.3    1.3   NaN\n",
      "\n",
      "[1.4  7.1  0.75] [ 1.4 -4.5  nan -1.3]\n"
     ]
    },
    {
     "data": {
      "text/plain": [
       "1.40    2\n",
       "0.75    1\n",
       "7.10    1\n",
       "Name: one, dtype: int64"
      ]
     },
     "execution_count": 30,
     "metadata": {},
     "output_type": "execute_result"
    }
   ],
   "source": [
    "# Unique Values\n",
    "# create DataFrame name df\n",
    "df = pd.DataFrame([[1.4, 1.4, 1.5, np.nan], [7.1, -4.5, 1.5, 1.4], [1.4, np.nan, 0.5, np.nan], [0.75, -1.3, 1.3, np.nan]], \n",
    "                  index = ['a', 'b', 'c', 'd'], \n",
    "                  columns = ['one', 'two', 'three', 'four'])\n",
    "\n",
    "print(df)\n",
    "print()\n",
    "\n",
    "# find unique values\n",
    "print(df['one'].unique(), df['two'].unique())\n",
    "\n",
    "# count column one values repeation\n",
    "df['one'].value_counts()"
   ]
  },
  {
   "cell_type": "code",
   "execution_count": 31,
   "metadata": {},
   "outputs": [
    {
     "name": "stdout",
     "output_type": "stream",
     "text": [
      "    one  two  three  four\n",
      "a  1.40  1.4    1.5   NaN\n",
      "b  7.10 -4.5    1.5   1.4\n",
      "c  1.40  NaN    0.5   NaN\n",
      "d  0.75 -1.3    1.3   NaN\n",
      "\n",
      "[1.4  7.1  0.75] [1.5 0.5 1.3]\n"
     ]
    },
    {
     "data": {
      "text/plain": [
       "1.40    2\n",
       "0.75    1\n",
       "7.10    1\n",
       "Name: one, dtype: int64"
      ]
     },
     "execution_count": 31,
     "metadata": {},
     "output_type": "execute_result"
    }
   ],
   "source": [
    "# Unique Values\n",
    "# create DataFrame name df\n",
    "df = pd.DataFrame([[1.4, 1.4, 1.5, np.nan], [7.1, -4.5, 1.5, 1.4], [1.4, np.nan, 0.5, np.nan], [0.75, -1.3, 1.3, np.nan]], \n",
    "                  index = ['a', 'b', 'c', 'd'], \n",
    "                  columns = ['one', 'two', 'three', 'four'])\n",
    "\n",
    "print(df)\n",
    "print()\n",
    "\n",
    "# find unique values\n",
    "print(df['one'].unique(), df['three'].unique())\n",
    "df['one'].value_counts()"
   ]
  },
  {
   "cell_type": "code",
   "execution_count": 32,
   "metadata": {},
   "outputs": [
    {
     "name": "stdout",
     "output_type": "stream",
     "text": [
      "    one  two  three  four\n",
      "a  1.40  1.4    1.5   NaN\n",
      "b  7.10 -4.5    1.5   1.4\n",
      "c  1.40  NaN    0.5   NaN\n",
      "d  0.75 -1.3    1.3   NaN\n",
      "\n",
      "[1.4  7.1  0.75] [nan 1.4]\n"
     ]
    },
    {
     "data": {
      "text/plain": [
       "1.40    2\n",
       "0.75    1\n",
       "7.10    1\n",
       "Name: one, dtype: int64"
      ]
     },
     "execution_count": 32,
     "metadata": {},
     "output_type": "execute_result"
    }
   ],
   "source": [
    "# Unique Values\n",
    "# create DataFrame name df\n",
    "df = pd.DataFrame([[1.4, 1.4, 1.5, np.nan], [7.1, -4.5, 1.5, 1.4], [1.4, np.nan, 0.5, np.nan], [0.75, -1.3, 1.3, np.nan]], \n",
    "                  index = ['a', 'b', 'c', 'd'], \n",
    "                  columns = ['one', 'two', 'three', 'four'])\n",
    "\n",
    "print(df)\n",
    "print()\n",
    "\n",
    "# find unique values\n",
    "print(df['one'].unique(), df['four'].unique())\n",
    "df['one'].value_counts()"
   ]
  },
  {
   "cell_type": "code",
   "execution_count": 33,
   "metadata": {},
   "outputs": [
    {
     "name": "stdout",
     "output_type": "stream",
     "text": [
      "    one  two  three  four\n",
      "a  1.40  1.4    1.5   NaN\n",
      "b  7.10 -4.5    1.5   1.4\n",
      "c  1.40  NaN    0.5   NaN\n",
      "d  0.75 -1.3    1.3   NaN\n",
      "\n",
      "[ 1.4 -4.5  nan -1.3] [1.4  7.1  0.75]\n"
     ]
    },
    {
     "data": {
      "text/plain": [
       "1.40    2\n",
       "0.75    1\n",
       "7.10    1\n",
       "Name: one, dtype: int64"
      ]
     },
     "execution_count": 33,
     "metadata": {},
     "output_type": "execute_result"
    }
   ],
   "source": [
    "# Unique Values\n",
    "# create DataFrame name df\n",
    "df = pd.DataFrame([[1.4, 1.4, 1.5, np.nan], [7.1, -4.5, 1.5, 1.4], [1.4, np.nan, 0.5, np.nan], [0.75, -1.3, 1.3, np.nan]], \n",
    "                  index = ['a', 'b', 'c', 'd'], \n",
    "                  columns = ['one', 'two', 'three', 'four'])\n",
    "\n",
    "print(df)\n",
    "print()\n",
    "\n",
    "# find unique values\n",
    "print(df['two'].unique(), df['one'].unique())\n",
    "\n",
    "# count column two values repeation\n",
    "df['two'].value_counts()"
   ]
  },
  {
   "cell_type": "code",
   "execution_count": 34,
   "metadata": {},
   "outputs": [
    {
     "name": "stdout",
     "output_type": "stream",
     "text": [
      "    one  two  three  four\n",
      "a  1.40  1.4    1.5   NaN\n",
      "b  7.10 -4.5    1.5   1.4\n",
      "c  1.40  NaN    0.5   NaN\n",
      "d  0.75 -1.3    1.3   NaN\n",
      "\n",
      "[ 1.4 -4.5  nan -1.3] [1.5 0.5 1.3]\n"
     ]
    },
    {
     "data": {
      "text/plain": [
       "1.40    2\n",
       "0.75    1\n",
       "7.10    1\n",
       "Name: one, dtype: int64"
      ]
     },
     "execution_count": 34,
     "metadata": {},
     "output_type": "execute_result"
    }
   ],
   "source": [
    "# Unique Values\n",
    "# create DataFrame name df\n",
    "df = pd.DataFrame([[1.4, 1.4, 1.5, np.nan], [7.1, -4.5, 1.5, 1.4], [1.4, np.nan, 0.5, np.nan], [0.75, -1.3, 1.3, np.nan]], \n",
    "                  index = ['a', 'b', 'c', 'd'], \n",
    "                  columns = ['one', 'two', 'three', 'four'])\n",
    "\n",
    "print(df)\n",
    "print()\n",
    "\n",
    "# find unique values\n",
    "print(df['two'].unique(), df['three'].unique())\n",
    "df['two'].value_counts()"
   ]
  },
  {
   "cell_type": "code",
   "execution_count": 35,
   "metadata": {},
   "outputs": [
    {
     "name": "stdout",
     "output_type": "stream",
     "text": [
      "    one  two  three  four\n",
      "a  1.40  1.4    1.5   NaN\n",
      "b  7.10 -4.5    1.5   1.4\n",
      "c  1.40  NaN    0.5   NaN\n",
      "d  0.75 -1.3    1.3   NaN\n",
      "\n",
      "[ 1.4 -4.5  nan -1.3] [nan 1.4]\n"
     ]
    },
    {
     "data": {
      "text/plain": [
       "1.40    2\n",
       "0.75    1\n",
       "7.10    1\n",
       "Name: one, dtype: int64"
      ]
     },
     "execution_count": 35,
     "metadata": {},
     "output_type": "execute_result"
    }
   ],
   "source": [
    "# Unique Values\n",
    "# create DataFrame name df\n",
    "df = pd.DataFrame([[1.4, 1.4, 1.5, np.nan], [7.1, -4.5, 1.5, 1.4], [1.4, np.nan, 0.5, np.nan], [0.75, -1.3, 1.3, np.nan]], \n",
    "                  index = ['a', 'b', 'c', 'd'], \n",
    "                  columns = ['one', 'two', 'three', 'four'])\n",
    "\n",
    "print(df)\n",
    "print()\n",
    "\n",
    "# find unique values\n",
    "print(df['two'].unique(), df['four'].unique())\n",
    "df['two'].value_counts()"
   ]
  },
  {
   "cell_type": "code",
   "execution_count": 36,
   "metadata": {},
   "outputs": [
    {
     "name": "stdout",
     "output_type": "stream",
     "text": [
      "    one  two  three  four\n",
      "a  1.40  1.4    1.5   NaN\n",
      "b  7.10 -4.5    1.5   1.4\n",
      "c  1.40  NaN    0.5   NaN\n",
      "d  0.75 -1.3    1.3   NaN\n",
      "\n",
      "[1.5 0.5 1.3] [1.4  7.1  0.75]\n"
     ]
    },
    {
     "data": {
      "text/plain": [
       "1.40    2\n",
       "0.75    1\n",
       "7.10    1\n",
       "Name: one, dtype: int64"
      ]
     },
     "execution_count": 36,
     "metadata": {},
     "output_type": "execute_result"
    }
   ],
   "source": [
    "# Unique Values\n",
    "# create DataFrame name df\n",
    "df = pd.DataFrame([[1.4, 1.4, 1.5, np.nan], [7.1, -4.5, 1.5, 1.4], [1.4, np.nan, 0.5, np.nan], [0.75, -1.3, 1.3, np.nan]], \n",
    "                  index = ['a', 'b', 'c', 'd'], \n",
    "                  columns = ['one', 'two', 'three', 'four'])\n",
    "\n",
    "print(df)\n",
    "print()\n",
    "\n",
    "# find unique values\n",
    "print(df['three'].unique(), df['one'].unique())\n",
    "\n",
    "# count column three values repeation\n",
    "df['three'].value_counts()"
   ]
  },
  {
   "cell_type": "code",
   "execution_count": 37,
   "metadata": {},
   "outputs": [
    {
     "name": "stdout",
     "output_type": "stream",
     "text": [
      "    one  two  three  four\n",
      "a  1.40  1.4    1.5   NaN\n",
      "b  7.10 -4.5    1.5   1.4\n",
      "c  1.40  NaN    0.5   NaN\n",
      "d  0.75 -1.3    1.3   NaN\n",
      "\n",
      "[1.5 0.5 1.3] [ 1.4 -4.5  nan -1.3]\n"
     ]
    },
    {
     "data": {
      "text/plain": [
       "1.40    2\n",
       "0.75    1\n",
       "7.10    1\n",
       "Name: one, dtype: int64"
      ]
     },
     "execution_count": 37,
     "metadata": {},
     "output_type": "execute_result"
    }
   ],
   "source": [
    "# Unique Values\n",
    "# create DataFrame name df\n",
    "df = pd.DataFrame([[1.4, 1.4, 1.5, np.nan], [7.1, -4.5, 1.5, 1.4], [1.4, np.nan, 0.5, np.nan], [0.75, -1.3, 1.3, np.nan]], \n",
    "                  index = ['a', 'b', 'c', 'd'], \n",
    "                  columns = ['one', 'two', 'three', 'four'])\n",
    "\n",
    "print(df)\n",
    "print()\n",
    "\n",
    "# find unique values\n",
    "print(df['three'].unique(), df['two'].unique())\n",
    "df['three'].value_counts()"
   ]
  },
  {
   "cell_type": "code",
   "execution_count": 38,
   "metadata": {},
   "outputs": [
    {
     "name": "stdout",
     "output_type": "stream",
     "text": [
      "    one  two  three  four\n",
      "a  1.40  1.4    1.5   NaN\n",
      "b  7.10 -4.5    1.5   1.4\n",
      "c  1.40  NaN    0.5   NaN\n",
      "d  0.75 -1.3    1.3   NaN\n",
      "\n",
      "[1.5 0.5 1.3] [nan 1.4]\n"
     ]
    },
    {
     "data": {
      "text/plain": [
       "1.40    2\n",
       "0.75    1\n",
       "7.10    1\n",
       "Name: one, dtype: int64"
      ]
     },
     "execution_count": 38,
     "metadata": {},
     "output_type": "execute_result"
    }
   ],
   "source": [
    "# Unique Values\n",
    "# create DataFrame name df\n",
    "df = pd.DataFrame([[1.4, 1.4, 1.5, np.nan], [7.1, -4.5, 1.5, 1.4], [1.4, np.nan, 0.5, np.nan], [0.75, -1.3, 1.3, np.nan]], \n",
    "                  index = ['a', 'b', 'c', 'd'], \n",
    "                  columns = ['one', 'two', 'three', 'four'])\n",
    "\n",
    "print(df)\n",
    "print()\n",
    "\n",
    "# find unique values\n",
    "print(df['three'].unique(), df['four'].unique())\n",
    "df['three'].value_counts()"
   ]
  },
  {
   "cell_type": "code",
   "execution_count": 39,
   "metadata": {},
   "outputs": [
    {
     "name": "stdout",
     "output_type": "stream",
     "text": [
      "    one  two  three  four\n",
      "a  1.40  1.4    1.5   NaN\n",
      "b  7.10 -4.5    1.5   1.4\n",
      "c  1.40  NaN    0.5   NaN\n",
      "d  0.75 -1.3    1.3   NaN\n",
      "\n",
      "[nan 1.4] [1.4  7.1  0.75]\n"
     ]
    },
    {
     "data": {
      "text/plain": [
       "1.40    2\n",
       "0.75    1\n",
       "7.10    1\n",
       "Name: one, dtype: int64"
      ]
     },
     "execution_count": 39,
     "metadata": {},
     "output_type": "execute_result"
    }
   ],
   "source": [
    "# Unique Values\n",
    "# create DataFrame name df\n",
    "df = pd.DataFrame([[1.4, 1.4, 1.5, np.nan], [7.1, -4.5, 1.5, 1.4], [1.4, np.nan, 0.5, np.nan], [0.75, -1.3, 1.3, np.nan]], \n",
    "                  index = ['a', 'b', 'c', 'd'], \n",
    "                  columns = ['one', 'two', 'three', 'four'])\n",
    "\n",
    "print(df)\n",
    "print()\n",
    "\n",
    "# find unique values\n",
    "print(df['four'].unique(), df['one'].unique())\n",
    "\n",
    "# count column four values repeation\n",
    "df['four'].value_counts()"
   ]
  },
  {
   "cell_type": "code",
   "execution_count": 40,
   "metadata": {},
   "outputs": [
    {
     "name": "stdout",
     "output_type": "stream",
     "text": [
      "    one  two  three  four\n",
      "a  1.40  1.4    1.5   NaN\n",
      "b  7.10 -4.5    1.5   1.4\n",
      "c  1.40  NaN    0.5   NaN\n",
      "d  0.75 -1.3    1.3   NaN\n",
      "\n",
      "[nan 1.4] [ 1.4 -4.5  nan -1.3]\n"
     ]
    },
    {
     "data": {
      "text/plain": [
       "1.40    2\n",
       "0.75    1\n",
       "7.10    1\n",
       "Name: one, dtype: int64"
      ]
     },
     "execution_count": 40,
     "metadata": {},
     "output_type": "execute_result"
    }
   ],
   "source": [
    "# Unique Values\n",
    "# create DataFrame name df\n",
    "df = pd.DataFrame([[1.4, 1.4, 1.5, np.nan], [7.1, -4.5, 1.5, 1.4], [1.4, np.nan, 0.5, np.nan], [0.75, -1.3, 1.3, np.nan]], \n",
    "                  index = ['a', 'b', 'c', 'd'], \n",
    "                  columns = ['one', 'two', 'three', 'four'])\n",
    "\n",
    "print(df)\n",
    "print()\n",
    "\n",
    "# find unique values\n",
    "print(df['four'].unique(), df['two'].unique())\n",
    "df['four'].value_counts()"
   ]
  },
  {
   "cell_type": "code",
   "execution_count": 41,
   "metadata": {},
   "outputs": [
    {
     "name": "stdout",
     "output_type": "stream",
     "text": [
      "    one  two  three  four\n",
      "a  1.40  1.4    1.5   NaN\n",
      "b  7.10 -4.5    1.5   1.4\n",
      "c  1.40  NaN    0.5   NaN\n",
      "d  0.75 -1.3    1.3   NaN\n",
      "\n",
      "[nan 1.4] [1.5 0.5 1.3]\n"
     ]
    },
    {
     "data": {
      "text/plain": [
       "1.40    2\n",
       "0.75    1\n",
       "7.10    1\n",
       "Name: one, dtype: int64"
      ]
     },
     "execution_count": 41,
     "metadata": {},
     "output_type": "execute_result"
    }
   ],
   "source": [
    "# Unique Values\n",
    "# create DataFrame name df\n",
    "df = pd.DataFrame([[1.4, 1.4, 1.5, np.nan], [7.1, -4.5, 1.5, 1.4], [1.4, np.nan, 0.5, np.nan], [0.75, -1.3, 1.3, np.nan]], \n",
    "                  index = ['a', 'b', 'c', 'd'], \n",
    "                  columns = ['one', 'two', 'three', 'four'])\n",
    "\n",
    "print(df)\n",
    "print()\n",
    "\n",
    "# find unique values\n",
    "print(df['four'].unique(), df['three'].unique())\n",
    "df['four'].value_counts()"
   ]
  },
  {
   "cell_type": "code",
   "execution_count": null,
   "metadata": {},
   "outputs": [],
   "source": []
  }
 ],
 "metadata": {
  "kernelspec": {
   "display_name": "Python 3",
   "language": "python",
   "name": "python3"
  },
  "language_info": {
   "codemirror_mode": {
    "name": "ipython",
    "version": 3
   },
   "file_extension": ".py",
   "mimetype": "text/x-python",
   "name": "python",
   "nbconvert_exporter": "python",
   "pygments_lexer": "ipython3",
   "version": "3.7.7"
  }
 },
 "nbformat": 4,
 "nbformat_minor": 4
}
