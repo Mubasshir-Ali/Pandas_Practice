{
 "cells": [
  {
   "cell_type": "code",
   "execution_count": 1,
   "metadata": {},
   "outputs": [],
   "source": [
    "import numpy as np\n",
    "import pandas as pd"
   ]
  },
  {
   "cell_type": "code",
   "execution_count": 2,
   "metadata": {},
   "outputs": [
    {
     "name": "stdout",
     "output_type": "stream",
     "text": [
      "          b     d     e\n",
      "Utah    0.0   1.0   2.0\n",
      "Ohio    3.0   4.0   5.0\n",
      "Texas   6.0   7.0   8.0\n",
      "Oregon  9.0  10.0  11.0\n",
      "---- using new series\n",
      "Index(['b', 'd', 'e'], dtype='object') [1 2 3]\n",
      "          b    d    e\n",
      "Utah   -1.0 -1.0 -1.0\n",
      "Ohio    2.0  2.0  2.0\n",
      "Texas   5.0  5.0  5.0\n",
      "Oregon  8.0  8.0  8.0\n"
     ]
    }
   ],
   "source": [
    "frame = pd.DataFrame(np.arange(12.).reshape((4, 3)), \n",
    "                    columns = list('bde'), \n",
    "                    index = ['Utah', 'Ohio', 'Texas', 'Oregon'])\n",
    "\n",
    "# iloc syntax\n",
    "# iloc[start_row_pos:end_row_pos, start_column_pos: end_col_position]\n",
    "series = frame.iloc[0]\n",
    "print(frame)\n",
    "#print(series)\n",
    "#print(series.value)\n",
    "#print(series.index)\n",
    "#print(frame - series)\n",
    "\n",
    "# step 1: run above commands after uncomment\n",
    "# step 2: comment above prints except the line contains print(frame)\n",
    "# wite following lines\n",
    "# and run the cell again\n",
    "print(\"---- using new series\")\n",
    "series = pd.Series([1, 2, 3], index = list('bde'))\n",
    "print(series.index, series.values)\n",
    "print(frame - series)\n",
    "# DataFrame column names will be match with series index\n",
    "# because its rows wise broadcasting operation"
   ]
  },
  {
   "cell_type": "code",
   "execution_count": 3,
   "metadata": {},
   "outputs": [
    {
     "name": "stdout",
     "output_type": "stream",
     "text": [
      "          b     d     e\n",
      "Utah    0.0   1.0   2.0\n",
      "Ohio    3.0   4.0   5.0\n",
      "Texas   6.0   7.0   8.0\n",
      "Oregon  9.0  10.0  11.0\n"
     ]
    }
   ],
   "source": [
    "frame = pd.DataFrame(np.arange(12.).reshape((4, 3)), \n",
    "                    columns = list('bde'), \n",
    "                    index = ['Utah', 'Ohio', 'Texas', 'Oregon'])\n",
    "\n",
    "# iloc syntax\n",
    "# iloc[start_row_pos:end_row_pos, start_column_pos: end_col_position]\n",
    "series = frame.iloc[0]\n",
    "print(frame)"
   ]
  },
  {
   "cell_type": "code",
   "execution_count": 6,
   "metadata": {},
   "outputs": [
    {
     "name": "stdout",
     "output_type": "stream",
     "text": [
      "---- using new series\n",
      "b    1\n",
      "d    2\n",
      "e    3\n",
      "dtype: int64\n"
     ]
    }
   ],
   "source": [
    "frame = pd.DataFrame(np.arange(12.).reshape((4, 3)), \n",
    "                    columns = list('bde'), \n",
    "                    index = ['Utah', 'Ohio', 'Texas', 'Oregon'])\n",
    "\n",
    "print(\"---- using new series\")\n",
    "series = pd.Series([1, 2, 3], index = list('bde'))\n",
    "print(series)"
   ]
  },
  {
   "cell_type": "code",
   "execution_count": 7,
   "metadata": {},
   "outputs": [
    {
     "name": "stdout",
     "output_type": "stream",
     "text": [
      "---- using new series\n",
      "Index(['b', 'd', 'e'], dtype='object') [1 2 3]\n",
      "          b    d    e\n",
      "Utah   -1.0 -1.0 -1.0\n",
      "Ohio    2.0  2.0  2.0\n",
      "Texas   5.0  5.0  5.0\n",
      "Oregon  8.0  8.0  8.0\n"
     ]
    }
   ],
   "source": [
    "frame = pd.DataFrame(np.arange(12.).reshape((4, 3)), \n",
    "                    columns = list('bde'), \n",
    "                    index = ['Utah', 'Ohio', 'Texas', 'Oregon'])\n",
    "\n",
    "print(\"---- using new series\")\n",
    "series = pd.Series([1, 2, 3], index = list('bde'))\n",
    "print(series.index, series.values)\n",
    "print(frame - series)\n",
    "# DataFrame column names will be match with series index\n",
    "# because its rows wise broadcasting operation"
   ]
  },
  {
   "cell_type": "code",
   "execution_count": 8,
   "metadata": {},
   "outputs": [
    {
     "name": "stdout",
     "output_type": "stream",
     "text": [
      "          b     d     e\n",
      "Utah    0.0   1.0   2.0\n",
      "Ohio    3.0   4.0   5.0\n",
      "Texas   6.0   7.0   8.0\n",
      "Oregon  9.0  10.0  11.0\n",
      "---- using new series\n",
      "Index(['b', 'd', 'e'], dtype='object') [1 2 3]\n",
      "          b    d    e\n",
      "Utah   -1.0 -1.0 -1.0\n",
      "Ohio    2.0  2.0  2.0\n",
      "Texas   5.0  5.0  5.0\n",
      "Oregon  8.0  8.0  8.0\n"
     ]
    }
   ],
   "source": [
    "frame = pd.DataFrame(np.arange(12.).reshape((4, 3)), \n",
    "                    columns = list('bde'), \n",
    "                    index = ['Utah', 'Ohio', 'Texas', 'Oregon'])\n",
    "\n",
    "# iloc syntax\n",
    "# iloc[start_row_pos:end_row_pos, start_column_pos: end_col_position]\n",
    "series = frame.iloc[3]\n",
    "print(frame)\n",
    "#print(series)\n",
    "#print(series.value)\n",
    "#print(series.index)\n",
    "#print(frame - series)\n",
    "\n",
    "# step 1: run above commands after uncomment\n",
    "# step 2: comment above prints except the line contains print(frame)\n",
    "# wite following lines\n",
    "# and run the cell again\n",
    "print(\"---- using new series\")\n",
    "series = pd.Series([1, 2, 3], index = list('bde'))\n",
    "print(series.index, series.values)\n",
    "print(frame - series)\n",
    "# DataFrame column names will be match with series index\n",
    "# because its rows wise broadcasting operation"
   ]
  },
  {
   "cell_type": "code",
   "execution_count": 9,
   "metadata": {},
   "outputs": [
    {
     "name": "stdout",
     "output_type": "stream",
     "text": [
      "          b     d     e\n",
      "Utah    0.0   1.0   2.0\n",
      "Ohio    3.0   4.0   5.0\n",
      "Texas   6.0   7.0   8.0\n",
      "Oregon  9.0  10.0  11.0\n",
      "---- using new series\n",
      "Index(['b', 'd', 'e'], dtype='object') [1 2 3]\n",
      "          b    d    e\n",
      "Utah   -1.0 -1.0 -1.0\n",
      "Ohio    2.0  2.0  2.0\n",
      "Texas   5.0  5.0  5.0\n",
      "Oregon  8.0  8.0  8.0\n"
     ]
    }
   ],
   "source": [
    "frame = pd.DataFrame(np.arange(12.).reshape((4, 3)), \n",
    "                    columns = list('bde'), \n",
    "                    index = ['Utah', 'Ohio', 'Texas', 'Oregon'])\n",
    "\n",
    "# iloc syntax\n",
    "# iloc[start_row_pos:end_row_pos, start_column_pos: end_col_position]\n",
    "series = frame.iloc[2]\n",
    "print(frame)\n",
    "#print(series)\n",
    "#print(series.value)\n",
    "#print(series.index)\n",
    "#print(frame - series)\n",
    "\n",
    "# step 1: run above commands after uncomment\n",
    "# step 2: comment above prints except the line contains print(frame)\n",
    "# wite following lines\n",
    "# and run the cell again\n",
    "print(\"---- using new series\")\n",
    "series = pd.Series([1, 2, 3], index = list('bde'))\n",
    "print(series.index, series.values)\n",
    "print(frame - series)\n",
    "# DataFrame column names will be match with series index\n",
    "# because its rows wise broadcasting operation"
   ]
  },
  {
   "cell_type": "code",
   "execution_count": 11,
   "metadata": {},
   "outputs": [
    {
     "name": "stdout",
     "output_type": "stream",
     "text": [
      "          b     d     e\n",
      "Utah    0.0   1.0   2.0\n",
      "Ohio    3.0   4.0   5.0\n",
      "Texas   6.0   7.0   8.0\n",
      "Oregon  9.0  10.0  11.0\n",
      "b    0.0\n",
      "d    1.0\n",
      "e    2.0\n",
      "Name: Utah, dtype: float64\n"
     ]
    }
   ],
   "source": [
    "frame = pd.DataFrame(np.arange(12.).reshape((4, 3)), \n",
    "                    columns = list('bde'), \n",
    "                    index = ['Utah', 'Ohio', 'Texas', 'Oregon'])\n",
    "\n",
    "# iloc syntax\n",
    "# iloc[start_row_pos:end_row_pos, start_column_pos: end_col_position]\n",
    "series = frame.iloc[0]\n",
    "print(frame)\n",
    "print(series)\n",
    "#print(series.value)\n",
    "#print(series.index)\n",
    "#print(frame - series)"
   ]
  },
  {
   "cell_type": "code",
   "execution_count": 14,
   "metadata": {},
   "outputs": [
    {
     "name": "stdout",
     "output_type": "stream",
     "text": [
      "          b     d     e\n",
      "Utah    0.0   1.0   2.0\n",
      "Ohio    3.0   4.0   5.0\n",
      "Texas   6.0   7.0   8.0\n",
      "Oregon  9.0  10.0  11.0\n",
      "b    0.0\n",
      "d    1.0\n",
      "e    2.0\n",
      "Name: Utah, dtype: float64\n",
      "Index(['b', 'd', 'e'], dtype='object')\n",
      "          b    d    e\n",
      "Utah    0.0  0.0  0.0\n",
      "Ohio    3.0  3.0  3.0\n",
      "Texas   6.0  6.0  6.0\n",
      "Oregon  9.0  9.0  9.0\n",
      "---- using new series\n",
      "Index(['b', 'd', 'e'], dtype='object') [1 2 3]\n",
      "          b    d    e\n",
      "Utah   -1.0 -1.0 -1.0\n",
      "Ohio    2.0  2.0  2.0\n",
      "Texas   5.0  5.0  5.0\n",
      "Oregon  8.0  8.0  8.0\n"
     ]
    }
   ],
   "source": [
    "frame = pd.DataFrame(np.arange(12.).reshape((4, 3)), \n",
    "                    columns = list('bde'), \n",
    "                    index = ['Utah', 'Ohio', 'Texas', 'Oregon'])\n",
    "\n",
    "# iloc syntax\n",
    "# iloc[start_row_pos:end_row_pos, start_column_pos: end_col_position]\n",
    "series = frame.iloc[0]\n",
    "print(frame)\n",
    "print(series)\n",
    "#print(series.value)\n",
    "print(series.index)\n",
    "print(frame - series)\n",
    "\n",
    "# step 1: run above commands after uncomment\n",
    "# step 2: comment above prints except the line contains print(frame)\n",
    "# wite following lines\n",
    "# and run the cell again\n",
    "print(\"---- using new series\")\n",
    "series = pd.Series([1, 2, 3], index = list('bde'))\n",
    "print(series.index, series.values)\n",
    "print(frame - series)\n",
    "# DataFrame column names will be match with series index\n",
    "# because its rows wise broadcasting operation"
   ]
  },
  {
   "cell_type": "code",
   "execution_count": 15,
   "metadata": {},
   "outputs": [
    {
     "name": "stdout",
     "output_type": "stream",
     "text": [
      "          b     d     e\n",
      "Utah    0.0   1.0   2.0\n",
      "Ohio    3.0   4.0   5.0\n",
      "Texas   6.0   7.0   8.0\n",
      "Oregon  9.0  10.0  11.0\n",
      "---- using new series\n",
      "Index(['b', 'd', 'e'], dtype='object') [1 2 3]\n",
      "           b     d     e\n",
      "Utah     1.0   3.0   5.0\n",
      "Ohio     4.0   6.0   8.0\n",
      "Texas    7.0   9.0  11.0\n",
      "Oregon  10.0  12.0  14.0\n"
     ]
    }
   ],
   "source": [
    "frame = pd.DataFrame(np.arange(12.).reshape((4, 3)), \n",
    "                    columns = list('bde'), \n",
    "                    index = ['Utah', 'Ohio', 'Texas', 'Oregon'])\n",
    "\n",
    "# iloc syntax\n",
    "# iloc[start_row_pos:end_row_pos, start_column_pos: end_col_position]\n",
    "series = frame.iloc[0]\n",
    "print(frame)\n",
    "#print(series)\n",
    "#print(series.value)\n",
    "#print(series.index)\n",
    "#print(frame - series)\n",
    "\n",
    "# step 1: run above commands after uncomment\n",
    "# step 2: comment above prints except the line contains print(frame)\n",
    "# wite following lines\n",
    "# and run the cell again\n",
    "print(\"---- using new series\")\n",
    "series = pd.Series([1, 2, 3], index = list('bde'))\n",
    "print(series.index, series.values)\n",
    "print(frame + series)\n",
    "# DataFrame column names will be match with series index\n",
    "# because its rows wise broadcasting operation"
   ]
  },
  {
   "cell_type": "code",
   "execution_count": 16,
   "metadata": {},
   "outputs": [
    {
     "name": "stdout",
     "output_type": "stream",
     "text": [
      "          b     d     e\n",
      "Utah    0.0   1.0   2.0\n",
      "Ohio    3.0   4.0   5.0\n",
      "Texas   6.0   7.0   8.0\n",
      "Oregon  9.0  10.0  11.0\n",
      "---- using new series\n",
      "Index(['b', 'd', 'e'], dtype='object') [1 2 3]\n",
      "          b     d     e\n",
      "Utah    0.0   2.0   6.0\n",
      "Ohio    3.0   8.0  15.0\n",
      "Texas   6.0  14.0  24.0\n",
      "Oregon  9.0  20.0  33.0\n"
     ]
    }
   ],
   "source": [
    "frame = pd.DataFrame(np.arange(12.).reshape((4, 3)), \n",
    "                    columns = list('bde'), \n",
    "                    index = ['Utah', 'Ohio', 'Texas', 'Oregon'])\n",
    "\n",
    "# iloc syntax\n",
    "# iloc[start_row_pos:end_row_pos, start_column_pos: end_col_position]\n",
    "series = frame.iloc[0]\n",
    "print(frame)\n",
    "#print(series)\n",
    "#print(series.value)\n",
    "#print(series.index)\n",
    "#print(frame - series)\n",
    "\n",
    "# step 1: run above commands after uncomment\n",
    "# step 2: comment above prints except the line contains print(frame)\n",
    "# wite following lines\n",
    "# and run the cell again\n",
    "print(\"---- using new series\")\n",
    "series = pd.Series([1, 2, 3], index = list('bde'))\n",
    "print(series.index, series.values)\n",
    "print(frame * series)\n",
    "# DataFrame column names will be match with series index\n",
    "# because its rows wise broadcasting operation"
   ]
  },
  {
   "cell_type": "code",
   "execution_count": 17,
   "metadata": {},
   "outputs": [
    {
     "name": "stdout",
     "output_type": "stream",
     "text": [
      "          b     d     e\n",
      "Utah    0.0   1.0   2.0\n",
      "Ohio    3.0   4.0   5.0\n",
      "Texas   6.0   7.0   8.0\n",
      "Oregon  9.0  10.0  11.0\n",
      "---- using new series\n",
      "Index(['b', 'd', 'e'], dtype='object') [1 2 3]\n",
      "          b    d         e\n",
      "Utah    0.0  0.5  0.666667\n",
      "Ohio    3.0  2.0  1.666667\n",
      "Texas   6.0  3.5  2.666667\n",
      "Oregon  9.0  5.0  3.666667\n"
     ]
    }
   ],
   "source": [
    "frame = pd.DataFrame(np.arange(12.).reshape((4, 3)), \n",
    "                    columns = list('bde'), \n",
    "                    index = ['Utah', 'Ohio', 'Texas', 'Oregon'])\n",
    "\n",
    "# iloc syntax\n",
    "# iloc[start_row_pos:end_row_pos, start_column_pos: end_col_position]\n",
    "series = frame.iloc[0]\n",
    "print(frame)\n",
    "#print(series)\n",
    "#print(series.value)\n",
    "#print(series.index)\n",
    "#print(frame - series)\n",
    "\n",
    "# step 1: run above commands after uncomment\n",
    "# step 2: comment above prints except the line contains print(frame)\n",
    "# wite following lines\n",
    "# and run the cell again\n",
    "print(\"---- using new series\")\n",
    "series = pd.Series([1, 2, 3], index = list('bde'))\n",
    "print(series.index, series.values)\n",
    "print(frame / series)\n",
    "# DataFrame column names will be match with series index\n",
    "# because its rows wise broadcasting operation"
   ]
  },
  {
   "cell_type": "code",
   "execution_count": 18,
   "metadata": {},
   "outputs": [
    {
     "name": "stdout",
     "output_type": "stream",
     "text": [
      "          b     d     e\n",
      "Utah    0.0   1.0   2.0\n",
      "Ohio    3.0   4.0   5.0\n",
      "Texas   6.0   7.0   8.0\n",
      "Oregon  9.0  10.0  11.0\n",
      "---- using new series\n",
      "Index(['b', 'd', 'e'], dtype='object') [1 2 3]\n",
      "          b    d    e\n",
      "Utah    0.0  1.0  2.0\n",
      "Ohio    0.0  0.0  2.0\n",
      "Texas   0.0  1.0  2.0\n",
      "Oregon  0.0  0.0  2.0\n"
     ]
    }
   ],
   "source": [
    "frame = pd.DataFrame(np.arange(12.).reshape((4, 3)), \n",
    "                    columns = list('bde'), \n",
    "                    index = ['Utah', 'Ohio', 'Texas', 'Oregon'])\n",
    "\n",
    "# iloc syntax\n",
    "# iloc[start_row_pos:end_row_pos, start_column_pos: end_col_position]\n",
    "series = frame.iloc[0]\n",
    "print(frame)\n",
    "#print(series)\n",
    "#print(series.value)\n",
    "#print(series.index)\n",
    "#print(frame - series)\n",
    "\n",
    "# step 1: run above commands after uncomment\n",
    "# step 2: comment above prints except the line contains print(frame)\n",
    "# wite following lines\n",
    "# and run the cell again\n",
    "print(\"---- using new series\")\n",
    "series = pd.Series([1, 2, 3], index = list('bde'))\n",
    "print(series.index, series.values)\n",
    "print(frame % series)\n",
    "# DataFrame column names will be match with series index\n",
    "# because its rows wise broadcasting operation"
   ]
  },
  {
   "cell_type": "code",
   "execution_count": null,
   "metadata": {},
   "outputs": [],
   "source": []
  }
 ],
 "metadata": {
  "kernelspec": {
   "display_name": "Python 3",
   "language": "python",
   "name": "python3"
  },
  "language_info": {
   "codemirror_mode": {
    "name": "ipython",
    "version": 3
   },
   "file_extension": ".py",
   "mimetype": "text/x-python",
   "name": "python",
   "nbconvert_exporter": "python",
   "pygments_lexer": "ipython3",
   "version": "3.7.7"
  }
 },
 "nbformat": 4,
 "nbformat_minor": 4
}
