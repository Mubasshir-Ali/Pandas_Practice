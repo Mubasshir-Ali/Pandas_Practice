{
 "cells": [
  {
   "cell_type": "markdown",
   "metadata": {},
   "source": [
    "# Arithmetic Methods With Fill Values"
   ]
  },
  {
   "cell_type": "code",
   "execution_count": 1,
   "metadata": {},
   "outputs": [],
   "source": [
    "import numpy as np\n",
    "import pandas as pd"
   ]
  },
  {
   "cell_type": "code",
   "execution_count": 4,
   "metadata": {},
   "outputs": [
    {
     "name": "stdout",
     "output_type": "stream",
     "text": [
      "     a    b     c     d\n",
      "0  0.0  1.0   2.0   3.0\n",
      "1  4.0  5.0   6.0   7.0\n",
      "2  8.0  9.0  10.0  11.0\n",
      "      a     b     c     d     e\n",
      "0   0.0   1.0   2.0   3.0   4.0\n",
      "1   5.0   NaN   7.0   8.0   9.0\n",
      "2  10.0  11.0  12.0  13.0  14.0\n",
      "3  15.0  16.0  17.0  18.0  19.0\n",
      "\n",
      "---------\n",
      "\n",
      "addition using a method with replacing NaN with 0\n",
      "      a     b     c     d     e\n",
      "0   0.0   2.0   4.0   6.0   4.0\n",
      "1   9.0   5.0  13.0  15.0   9.0\n",
      "2  18.0  20.0  22.0  24.0  14.0\n",
      "3  15.0  16.0  17.0  18.0  19.0\n"
     ]
    }
   ],
   "source": [
    "df1 = pd.DataFrame(np.arange(12.).reshape((3, 4)),\n",
    "                  columns = list('abcd'))\n",
    "\n",
    "df2 = pd.DataFrame(np.arange(20.).reshape((4, 5)),\n",
    "                  columns = list('abcde'))\n",
    "\n",
    "print(df1)\n",
    "#print(df2)\n",
    "\n",
    "df2.loc[1, 'b'] = np.nan\n",
    "print(df2)\n",
    "df3 = df1 + df2\n",
    "print()\n",
    "print(\"---------\")\n",
    "print()\n",
    "# we can use add method for filling NaN cells with a value\n",
    "# NaN will be replaced by 0 and then addition operation will apply\n",
    "print(\"addition using a method with replacing NaN with 0\")\n",
    "df3 = df1.add(df2, fill_value = 0)\n",
    "print(df3)"
   ]
  },
  {
   "cell_type": "code",
   "execution_count": 8,
   "metadata": {},
   "outputs": [
    {
     "name": "stdout",
     "output_type": "stream",
     "text": [
      "     a    b     c     d\n",
      "0  0.0  1.0   2.0   3.0\n",
      "1  4.0  5.0   6.0   7.0\n",
      "2  8.0  9.0  10.0  11.0\n"
     ]
    }
   ],
   "source": [
    "df1 = pd.DataFrame(np.arange(12.).reshape((3, 4)),\n",
    "                  columns = list('abcd'))\n",
    "\n",
    "print(df1)"
   ]
  },
  {
   "cell_type": "code",
   "execution_count": 9,
   "metadata": {},
   "outputs": [
    {
     "name": "stdout",
     "output_type": "stream",
     "text": [
      "      a     b     c     d     e\n",
      "0   0.0   1.0   2.0   3.0   4.0\n",
      "1   5.0   6.0   7.0   8.0   9.0\n",
      "2  10.0  11.0  12.0  13.0  14.0\n",
      "3  15.0  16.0  17.0  18.0  19.0\n"
     ]
    }
   ],
   "source": [
    "df2 = pd.DataFrame(np.arange(20.).reshape((4, 5)),\n",
    "                  columns = list('abcde'))\n",
    "\n",
    "print(df2)"
   ]
  },
  {
   "cell_type": "code",
   "execution_count": 11,
   "metadata": {},
   "outputs": [
    {
     "name": "stdout",
     "output_type": "stream",
     "text": [
      "      a     b     c     d     e\n",
      "0   0.0   1.0   2.0   3.0   4.0\n",
      "1   5.0   NaN   7.0   8.0   9.0\n",
      "2  10.0  11.0  12.0  13.0  14.0\n",
      "3  15.0  16.0  17.0  18.0  19.0\n"
     ]
    }
   ],
   "source": [
    "df1 = pd.DataFrame(np.arange(12.).reshape((3, 4)),\n",
    "                  columns = list('abcd'))\n",
    "\n",
    "df2 = pd.DataFrame(np.arange(20.).reshape((4, 5)),\n",
    "                  columns = list('abcde'))\n",
    "\n",
    "df2.loc[1, 'b'] = np.nan\n",
    "print(df2)"
   ]
  },
  {
   "cell_type": "code",
   "execution_count": 13,
   "metadata": {},
   "outputs": [
    {
     "name": "stdout",
     "output_type": "stream",
     "text": [
      "      a     b     c     d   e\n",
      "0   0.0   2.0   4.0   6.0 NaN\n",
      "1   9.0  11.0  13.0  15.0 NaN\n",
      "2  18.0  20.0  22.0  24.0 NaN\n",
      "3   NaN   NaN   NaN   NaN NaN\n"
     ]
    }
   ],
   "source": [
    "df1 = pd.DataFrame(np.arange(12.).reshape((3, 4)),\n",
    "                  columns = list('abcd'))\n",
    "\n",
    "df2 = pd.DataFrame(np.arange(20.).reshape((4, 5)),\n",
    "                  columns = list('abcde'))\n",
    "\n",
    "df3 = df1 + df2\n",
    "print(df3)"
   ]
  },
  {
   "cell_type": "code",
   "execution_count": 14,
   "metadata": {},
   "outputs": [
    {
     "name": "stdout",
     "output_type": "stream",
     "text": [
      "addition using a method with replacing NaN with 0\n",
      "      a     b     c     d     e\n",
      "0   0.0   2.0   4.0   6.0   4.0\n",
      "1   9.0  11.0  13.0  15.0   9.0\n",
      "2  18.0  20.0  22.0  24.0  14.0\n",
      "3  15.0  16.0  17.0  18.0  19.0\n"
     ]
    }
   ],
   "source": [
    "df1 = pd.DataFrame(np.arange(12.).reshape((3, 4)),\n",
    "                  columns = list('abcd'))\n",
    "\n",
    "df2 = pd.DataFrame(np.arange(20.).reshape((4, 5)),\n",
    "                  columns = list('abcde'))\n",
    "\n",
    "# we can use add method for filling NaN cells with a value\n",
    "# NaN will be replaced by 0 and then addition operation will apply\n",
    "print(\"addition using a method with replacing NaN with 0\")\n",
    "df3 = df1.add(df2, fill_value = 0)\n",
    "print(df3)"
   ]
  },
  {
   "cell_type": "code",
   "execution_count": 5,
   "metadata": {},
   "outputs": [
    {
     "name": "stdout",
     "output_type": "stream",
     "text": [
      "      a     b     c     d     e\n",
      "0   0.0   1.0   2.0   3.0   4.0\n",
      "1   5.0   6.0   7.0   8.0   9.0\n",
      "2  10.0  11.0  12.0  13.0  14.0\n",
      "3  15.0  16.0  17.0  18.0  19.0\n",
      "      a     b     c     d     e\n",
      "0   0.0   1.0   2.0   3.0   4.0\n",
      "1   5.0   NaN   7.0   8.0   9.0\n",
      "2  10.0  11.0  12.0  13.0  14.0\n",
      "3  15.0  16.0  17.0  18.0  19.0\n",
      "\n",
      "---------\n",
      "\n",
      "addition using a method with replacing NaN with 0\n",
      "      a     b     c     d     e\n",
      "0   0.0   2.0   4.0   6.0   4.0\n",
      "1   9.0   5.0  13.0  15.0   9.0\n",
      "2  18.0  20.0  22.0  24.0  14.0\n",
      "3  15.0  16.0  17.0  18.0  19.0\n"
     ]
    }
   ],
   "source": [
    "df1 = pd.DataFrame(np.arange(12.).reshape((3, 4)),\n",
    "                  columns = list('abcd'))\n",
    "\n",
    "df2 = pd.DataFrame(np.arange(20.).reshape((4, 5)),\n",
    "                  columns = list('abcde'))\n",
    "\n",
    "#print(df1)\n",
    "print(df2)\n",
    "\n",
    "df2.loc[1, 'b'] = np.nan\n",
    "print(df2)\n",
    "df3 = df1 + df2\n",
    "print()\n",
    "print(\"---------\")\n",
    "print()\n",
    "# we can use add method for filling NaN cells with a value\n",
    "# NaN will be replaced by 0 and then addition operation will apply\n",
    "print(\"addition using a method with replacing NaN with 0\")\n",
    "df3 = df1.add(df2, fill_value = 0)\n",
    "print(df3)"
   ]
  },
  {
   "cell_type": "code",
   "execution_count": 17,
   "metadata": {},
   "outputs": [
    {
     "name": "stdout",
     "output_type": "stream",
     "text": [
      "     a    b     c     d\n",
      "0  0.0  1.0   2.0   3.0\n",
      "1  4.0  5.0   6.0   7.0\n",
      "2  8.0  9.0  10.0  11.0\n",
      "     a    b     c     d\n",
      "0  0.0  1.0   2.0   3.0\n",
      "1  4.0  5.0   6.0   NaN\n",
      "2  8.0  9.0  10.0  11.0\n",
      "\n",
      "---------\n",
      "\n",
      "addition using a method with replacing NaN with 0\n",
      "      a     b     c     d\n",
      "0   0.0   2.0   4.0   6.0\n",
      "1   8.0  10.0  12.0   NaN\n",
      "2  16.0  18.0  20.0  22.0\n"
     ]
    }
   ],
   "source": [
    "df1 = pd.DataFrame(np.arange(12.).reshape((3, 4)),\n",
    "                  columns = list('abcd'))\n",
    "\n",
    "df2 = pd.DataFrame(np.arange(20.).reshape((4, 5)),\n",
    "                  columns = list('abcde'))\n",
    "\n",
    "print(df1)\n",
    "#print(df2)\n",
    "\n",
    "df1.loc[1, 'd'] = np.nan\n",
    "print(df1)\n",
    "#df3 = df1 + df2\n",
    "print()\n",
    "print(\"---------\")\n",
    "print()\n",
    "# we can use add method for filling NaN cells with a value\n",
    "# NaN will be replaced by 0 and then addition operation will apply\n",
    "print(\"addition using a method with replacing NaN with 0\")\n",
    "df3 = df1.add(df1, fill_value = 0)\n",
    "print(df3)"
   ]
  },
  {
   "cell_type": "code",
   "execution_count": 7,
   "metadata": {},
   "outputs": [
    {
     "name": "stdout",
     "output_type": "stream",
     "text": [
      "      a     b     c     d     e\n",
      "0   0.0   1.0   2.0   3.0   4.0\n",
      "1   5.0   6.0   7.0   8.0   9.0\n",
      "2  10.0  11.0  12.0  13.0  14.0\n",
      "3  15.0  16.0  17.0  18.0  19.0\n",
      "      a     b     c     d     e\n",
      "0   0.0   1.0   2.0   3.0   4.0\n",
      "1   5.0   NaN   7.0   8.0   9.0\n",
      "2  10.0  11.0  12.0  13.0  14.0\n",
      "3  15.0  16.0  17.0  18.0  19.0\n",
      "\n",
      "---------\n",
      "\n",
      "addition using a method with replacing NaN with 0\n",
      "      a     b     c     d     e\n",
      "0   0.0   2.0   4.0   6.0   8.0\n",
      "1  10.0   NaN  14.0  16.0  18.0\n",
      "2  20.0  22.0  24.0  26.0  28.0\n",
      "3  30.0  32.0  34.0  36.0  38.0\n"
     ]
    }
   ],
   "source": [
    "df1 = pd.DataFrame(np.arange(12.).reshape((3, 4)),\n",
    "                  columns = list('abcd'))\n",
    "\n",
    "df2 = pd.DataFrame(np.arange(20.).reshape((4, 5)),\n",
    "                  columns = list('abcde'))\n",
    "\n",
    "#print(df1)\n",
    "print(df2)\n",
    "\n",
    "df2.loc[1, 'b'] = np.nan\n",
    "print(df2)\n",
    "df3 = df1 + df2\n",
    "print()\n",
    "print(\"---------\")\n",
    "print()\n",
    "# we can use add method for filling NaN cells with a value\n",
    "# NaN will be replaced by 0 and then addition operation will apply\n",
    "print(\"addition using a method with replacing NaN with 0\")\n",
    "df3 = df2.add(df2, fill_value = 0)\n",
    "print(df3)"
   ]
  },
  {
   "cell_type": "code",
   "execution_count": 18,
   "metadata": {},
   "outputs": [
    {
     "name": "stdout",
     "output_type": "stream",
     "text": [
      "     a    b     c     d\n",
      "0  0.0  1.0   2.0   3.0\n",
      "1  4.0  5.0   6.0   7.0\n",
      "2  8.0  9.0  10.0  11.0\n",
      "nan\n",
      "\n",
      "---------\n",
      "\n",
      "addition using a method with replacing NaN with 0\n",
      "    a   b   c   d\n",
      "0 NaN NaN NaN NaN\n",
      "1 NaN NaN NaN NaN\n",
      "2 NaN NaN NaN NaN\n"
     ]
    }
   ],
   "source": [
    "df1 = pd.DataFrame(np.arange(12.).reshape((3, 4)),\n",
    "                  columns = list('abcd'))\n",
    "\n",
    "df2 = pd.DataFrame(np.arange(20.).reshape((4, 5)),\n",
    "                  columns = list('abcde'))\n",
    "\n",
    "print(df1)\n",
    "#print(df2)\n",
    "\n",
    "a = df1.loc[1, 'd'] = np.nan\n",
    "print(a)\n",
    "#df3 = df1 + df2\n",
    "print()\n",
    "print(\"---------\")\n",
    "print()\n",
    "# we can use add method for filling NaN cells with a value\n",
    "# NaN will be replaced by 0 and then addition operation will apply\n",
    "print(\"addition using a method with replacing NaN with 0\")\n",
    "df3 = df1.add(a, fill_value = 0)\n",
    "print(df3)"
   ]
  },
  {
   "cell_type": "code",
   "execution_count": 19,
   "metadata": {},
   "outputs": [
    {
     "name": "stdout",
     "output_type": "stream",
     "text": [
      "     a    b     c     d\n",
      "0  0.0  1.0   2.0   3.0\n",
      "1  4.0  5.0   6.0   7.0\n",
      "2  8.0  9.0  10.0  11.0\n",
      "nan\n",
      "\n",
      "---------\n",
      "\n",
      "addition using a method with replacing NaN with 0\n",
      "    a   b   c   d\n",
      "0 NaN NaN NaN NaN\n",
      "1 NaN NaN NaN NaN\n",
      "2 NaN NaN NaN NaN\n"
     ]
    }
   ],
   "source": [
    "df1 = pd.DataFrame(np.arange(12.).reshape((3, 4)),\n",
    "                  columns = list('abcd'))\n",
    "\n",
    "df2 = pd.DataFrame(np.arange(20.).reshape((4, 5)),\n",
    "                  columns = list('abcde'))\n",
    "\n",
    "print(df1)\n",
    "#print(df2)\n",
    "\n",
    "a = df1.loc[1, 'd'] = np.nan\n",
    "print(a)\n",
    "#df3 = df1 + df2\n",
    "print()\n",
    "print(\"---------\")\n",
    "print()\n",
    "# we can use add method for filling NaN cells with a value\n",
    "# NaN will be replaced by 0 and then addition operation will apply\n",
    "print(\"addition using a method with replacing NaN with 0\")\n",
    "df3 = df1.add(a, fill_value = 1)\n",
    "print(df3)"
   ]
  },
  {
   "cell_type": "code",
   "execution_count": 20,
   "metadata": {},
   "outputs": [
    {
     "data": {
      "text/plain": [
       "nan"
      ]
     },
     "execution_count": 20,
     "metadata": {},
     "output_type": "execute_result"
    }
   ],
   "source": [
    "0 + np.nan"
   ]
  },
  {
   "cell_type": "code",
   "execution_count": 21,
   "metadata": {},
   "outputs": [
    {
     "data": {
      "text/plain": [
       "nan"
      ]
     },
     "execution_count": 21,
     "metadata": {},
     "output_type": "execute_result"
    }
   ],
   "source": [
    "0 - np.nan"
   ]
  },
  {
   "cell_type": "code",
   "execution_count": 22,
   "metadata": {},
   "outputs": [
    {
     "data": {
      "text/plain": [
       "nan"
      ]
     },
     "execution_count": 22,
     "metadata": {},
     "output_type": "execute_result"
    }
   ],
   "source": [
    "5 * np.nan"
   ]
  },
  {
   "cell_type": "code",
   "execution_count": 23,
   "metadata": {},
   "outputs": [
    {
     "data": {
      "text/plain": [
       "nan"
      ]
     },
     "execution_count": 23,
     "metadata": {},
     "output_type": "execute_result"
    }
   ],
   "source": [
    "5 / np.nan"
   ]
  },
  {
   "cell_type": "code",
   "execution_count": 24,
   "metadata": {},
   "outputs": [
    {
     "data": {
      "text/plain": [
       "nan"
      ]
     },
     "execution_count": 24,
     "metadata": {},
     "output_type": "execute_result"
    }
   ],
   "source": [
    "np.nan * 5"
   ]
  },
  {
   "cell_type": "code",
   "execution_count": 25,
   "metadata": {},
   "outputs": [
    {
     "data": {
      "text/plain": [
       "nan"
      ]
     },
     "execution_count": 25,
     "metadata": {},
     "output_type": "execute_result"
    }
   ],
   "source": [
    "np.nan + np.nan"
   ]
  },
  {
   "cell_type": "code",
   "execution_count": 26,
   "metadata": {},
   "outputs": [
    {
     "data": {
      "text/plain": [
       "nan"
      ]
     },
     "execution_count": 26,
     "metadata": {},
     "output_type": "execute_result"
    }
   ],
   "source": [
    "np.nan - np.nan"
   ]
  }
 ],
 "metadata": {
  "kernelspec": {
   "display_name": "Python 3",
   "language": "python",
   "name": "python3"
  },
  "language_info": {
   "codemirror_mode": {
    "name": "ipython",
    "version": 3
   },
   "file_extension": ".py",
   "mimetype": "text/x-python",
   "name": "python",
   "nbconvert_exporter": "python",
   "pygments_lexer": "ipython3",
   "version": "3.7.7"
  }
 },
 "nbformat": 4,
 "nbformat_minor": 4
}
