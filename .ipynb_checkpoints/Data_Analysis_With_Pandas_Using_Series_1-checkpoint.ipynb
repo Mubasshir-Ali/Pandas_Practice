{
 "cells": [
  {
   "cell_type": "code",
   "execution_count": 1,
   "metadata": {},
   "outputs": [],
   "source": [
    "# must need to import pandas\n",
    "import pandas as pd"
   ]
  },
  {
   "cell_type": "code",
   "execution_count": 2,
   "metadata": {},
   "outputs": [
    {
     "name": "stdout",
     "output_type": "stream",
     "text": [
      "0    4\n",
      "1    7\n",
      "2   -5\n",
      "3    3\n",
      "dtype: int64\n"
     ]
    }
   ],
   "source": [
    "# using Series Function\n",
    "a = pd.Series([4,7,-5,3])\n",
    "print(a)"
   ]
  },
  {
   "cell_type": "code",
   "execution_count": 3,
   "metadata": {},
   "outputs": [
    {
     "name": "stdout",
     "output_type": "stream",
     "text": [
      "0        [4, 7, -5, 3]\n",
      "1    [14, 17, -15, 13]\n",
      "dtype: object\n"
     ]
    }
   ],
   "source": [
    "# using Series Function\n",
    "b = pd.Series([[4,7,-5,3],[14,17,-15,13]])\n",
    "print(b)"
   ]
  },
  {
   "cell_type": "code",
   "execution_count": 4,
   "metadata": {},
   "outputs": [
    {
     "name": "stdout",
     "output_type": "stream",
     "text": [
      "0                           [4, 7, -5, 3]\n",
      "1    [[14, 17, -15, 13, 14, 17, -15, 13]]\n",
      "dtype: object\n"
     ]
    }
   ],
   "source": [
    "# using Series Function\n",
    "c = pd.Series([[4,7,-5,3],[[14,17,-15,13,14,17,-15,13]]])\n",
    "print(c)"
   ]
  },
  {
   "cell_type": "code",
   "execution_count": 5,
   "metadata": {},
   "outputs": [
    {
     "name": "stdout",
     "output_type": "stream",
     "text": [
      "0        [4, 7, -5, 3]\n",
      "1    [14, 17, -15, 13]\n",
      "2        [4, 7, -5, 3]\n",
      "3    [14, 17, -15, 13]\n",
      "dtype: object\n"
     ]
    }
   ],
   "source": [
    "# using Series Function\n",
    "d = pd.Series([[4,7,-5,3],[14,17,-15,13],[4,7,-5,3],[14,17,-15,13]])\n",
    "print(d)"
   ]
  },
  {
   "cell_type": "markdown",
   "metadata": {},
   "source": [
    "# Pandas Series Has Two Things In One Object"
   ]
  },
  {
   "cell_type": "markdown",
   "metadata": {},
   "source": [
    "# 1 Values"
   ]
  },
  {
   "cell_type": "markdown",
   "metadata": {},
   "source": [
    "# 2 Index"
   ]
  },
  {
   "cell_type": "code",
   "execution_count": 6,
   "metadata": {},
   "outputs": [
    {
     "name": "stdout",
     "output_type": "stream",
     "text": [
      "[100 200 100 400]\n",
      "RangeIndex(start=0, stop=4, step=1)\n"
     ]
    }
   ],
   "source": [
    "# create sales Series\n",
    "sales = pd.Series([100,200,100,400])\n",
    "print(sales.values)\n",
    "print(sales.index)"
   ]
  },
  {
   "cell_type": "code",
   "execution_count": 7,
   "metadata": {},
   "outputs": [
    {
     "name": "stdout",
     "output_type": "stream",
     "text": [
      "a    100\n",
      "b    200\n",
      "c    100\n",
      "d    400\n",
      "dtype: int64\n"
     ]
    }
   ],
   "source": [
    "# the indexing is compulsory from numeric number\n",
    "# any thing you used in indexing mean you use ['a','b','c','d'] etc\n",
    "# bydefault indexing is numeric\n",
    "sales = pd.Series([100,200,100,400], index = ['a','b','c','d'])\n",
    "print(sales)"
   ]
  },
  {
   "cell_type": "code",
   "execution_count": 8,
   "metadata": {},
   "outputs": [
    {
     "name": "stdout",
     "output_type": "stream",
     "text": [
      "a    100\n",
      "b    200\n",
      "c    100\n",
      "d    400\n",
      "dtype: int64\n"
     ]
    }
   ],
   "source": [
    "# the indexing is compulsory from numeric number\n",
    "# any thing you used in indexing mean you use ['a','b','c','d'] etc\n",
    "# bydefault indexing is numeric\n",
    "sales = pd.Series([100,200,100,400], index = ['a','b','c','d'])\n",
    "print(sales)"
   ]
  },
  {
   "cell_type": "code",
   "execution_count": 9,
   "metadata": {},
   "outputs": [
    {
     "name": "stdout",
     "output_type": "stream",
     "text": [
      "Jan    100\n",
      "Feb    200\n",
      "Mar    100\n",
      "Apr    400\n",
      "dtype: int64\n"
     ]
    }
   ],
   "source": [
    "# the indexing is compulsory from numeric number\n",
    "# any thing you used in indexing mean you use ['Jan','Feb','Mar','Apr'] etc\n",
    "# bydefault indexing is numeric\n",
    "sales = pd.Series([100,200,100,400], index = ['Jan','Feb','Mar','Apr'])\n",
    "print(sales)"
   ]
  },
  {
   "cell_type": "code",
   "execution_count": 10,
   "metadata": {},
   "outputs": [
    {
     "name": "stdout",
     "output_type": "stream",
     "text": [
      "[100 200 100 400]\n",
      "Index(['Jan', 'Feb', 'Mar', 'Apr'], dtype='object')\n"
     ]
    }
   ],
   "source": [
    "# your choice to print values and index\n",
    "print(sales.values)\n",
    "print(sales.index)"
   ]
  },
  {
   "cell_type": "code",
   "execution_count": 11,
   "metadata": {},
   "outputs": [
    {
     "name": "stdout",
     "output_type": "stream",
     "text": [
      "Jan    100\n",
      "Feb    200\n",
      "Mar    100\n",
      "Apr    400\n",
      "Name: 4 month sales, dtype: int64\n"
     ]
    }
   ],
   "source": [
    "# the indexing is compulsory from numeric number\n",
    "# give name of the series\n",
    "# any thing you used in indexing mean you use ['Jan','Feb','Mar','Apr'] etc\n",
    "# bydefault indexing is numeric\n",
    "sales = pd.Series([100,200,100,400], index = ['Jan','Feb','Mar','Apr'], name = \"4 month sales\")\n",
    "print(sales)"
   ]
  },
  {
   "cell_type": "markdown",
   "metadata": {},
   "source": [
    "# Create a pandas series to store a canteen data to hold values of how many sandwithes are sold each days (one week) "
   ]
  },
  {
   "cell_type": "code",
   "execution_count": 12,
   "metadata": {},
   "outputs": [
    {
     "name": "stdout",
     "output_type": "stream",
     "text": [
      "Mon    20\n",
      "Tue    30\n",
      "Wed    20\n",
      "Thu    25\n",
      "Fi     30\n",
      "Sat    40\n",
      "Sun     0\n",
      "dtype: int64\n"
     ]
    }
   ],
   "source": [
    "# Create sandwithes(sw) Series \n",
    "sw = pd.Series([20, 30, 20, 25, 30, 40, 0], index = ['Mon', 'Tue', 'Wed', 'Thu', 'Fi', 'Sat', 'Sun'])\n",
    "print(sw)"
   ]
  },
  {
   "cell_type": "code",
   "execution_count": 13,
   "metadata": {},
   "outputs": [
    {
     "name": "stdout",
     "output_type": "stream",
     "text": [
      "Mon    20\n",
      "Tue    30\n",
      "Wed    20\n",
      "Thu    25\n",
      "Fi     30\n",
      "Sat    40\n",
      "Sun     0\n",
      "Name: Sandwithes Weekly Sales Record, dtype: int64\n"
     ]
    }
   ],
   "source": [
    "# Create sandwithes(sw) Series \n",
    "sw = pd.Series([20, 30, 20, 25, 30, 40, 0], \n",
    "               index = ['Mon', 'Tue', 'Wed', 'Thu', 'Fi', 'Sat', 'Sun'], \n",
    "               name = \"Sandwithes Weekly Sales Record\")\n",
    "print(sw)"
   ]
  },
  {
   "cell_type": "code",
   "execution_count": 14,
   "metadata": {},
   "outputs": [
    {
     "name": "stdout",
     "output_type": "stream",
     "text": [
      "Mon    20\n",
      "Tue    30\n",
      "Wed    20\n",
      "Thu    25\n",
      "Fi     30\n",
      "Sat    40\n",
      "Sun     0\n",
      "Name: Sandwithes Weekly Sales Record, dtype: int64\n",
      "[20 30 20 25 30 40  0]\n",
      "Index(['Mon', 'Tue', 'Wed', 'Thu', 'Fi', 'Sat', 'Sun'], dtype='object')\n"
     ]
    }
   ],
   "source": [
    "# Create sandwithes(sw) Series \n",
    "sw = pd.Series([20, 30, 20, 25, 30, 40, 0], \n",
    "               index = ['Mon', 'Tue', 'Wed', 'Thu', 'Fi', 'Sat', 'Sun'], \n",
    "               name = \"Sandwithes Weekly Sales Record\")\n",
    "print(sw)\n",
    "print(sw.values)\n",
    "print(sw.index)"
   ]
  },
  {
   "cell_type": "code",
   "execution_count": 15,
   "metadata": {},
   "outputs": [
    {
     "name": "stdout",
     "output_type": "stream",
     "text": [
      "30\n"
     ]
    }
   ],
   "source": [
    "# access data using numpy method\n",
    "print(sw[1])"
   ]
  },
  {
   "cell_type": "code",
   "execution_count": 16,
   "metadata": {},
   "outputs": [
    {
     "name": "stdout",
     "output_type": "stream",
     "text": [
      "30\n"
     ]
    }
   ],
   "source": [
    "# access data using pandas method using index name\n",
    "print(sw[\"Tue\"])"
   ]
  },
  {
   "cell_type": "code",
   "execution_count": 17,
   "metadata": {},
   "outputs": [
    {
     "name": "stdout",
     "output_type": "stream",
     "text": [
      "20\n"
     ]
    }
   ],
   "source": [
    "# access data using pandas method using index name\n",
    "print(sw[\"Mon\"])"
   ]
  },
  {
   "cell_type": "code",
   "execution_count": 18,
   "metadata": {},
   "outputs": [
    {
     "name": "stdout",
     "output_type": "stream",
     "text": [
      "Thu    25\n",
      "Sat    40\n",
      "Name: Sandwithes Weekly Sales Record, dtype: int64\n"
     ]
    }
   ],
   "source": [
    "# access data using pandas method\n",
    "print(sw[[3,5]])"
   ]
  },
  {
   "cell_type": "code",
   "execution_count": 19,
   "metadata": {},
   "outputs": [
    {
     "name": "stdout",
     "output_type": "stream",
     "text": [
      "Mon    20\n",
      "Thu    25\n",
      "Name: Sandwithes Weekly Sales Record, dtype: int64\n"
     ]
    }
   ],
   "source": [
    "# access data using pandas method using index name\n",
    "print(sw[[\"Mon\", \"Thu\"]])"
   ]
  },
  {
   "cell_type": "markdown",
   "metadata": {},
   "source": [
    "# For Providing Multiple Index For Selecting Element In An Pandas Series, Use Array Notation"
   ]
  },
  {
   "cell_type": "code",
   "execution_count": 20,
   "metadata": {},
   "outputs": [
    {
     "name": "stdout",
     "output_type": "stream",
     "text": [
      "Tue    30\n",
      "Thu    25\n",
      "Fi     30\n",
      "Sat    40\n",
      "Name: Sandwithes Weekly Sales Record, dtype: int64\n"
     ]
    }
   ],
   "source": [
    "# conditional selection\n",
    "# check the sales of the sandwithes per day greater than 20\n",
    "print(sw[sw > 20])\n"
   ]
  },
  {
   "cell_type": "code",
   "execution_count": 21,
   "metadata": {},
   "outputs": [
    {
     "data": {
      "text/plain": [
       "Mon    40\n",
       "Tue    60\n",
       "Wed    40\n",
       "Thu    50\n",
       "Fi     60\n",
       "Sat    80\n",
       "Sun     0\n",
       "Name: Sandwithes Weekly Sales Record, dtype: int64"
      ]
     },
     "execution_count": 21,
     "metadata": {},
     "output_type": "execute_result"
    }
   ],
   "source": [
    "# multiply sw bay 2\n",
    "# if you multiply sw * 2, the values will be multiply but the result can't store\n",
    "sw * 2"
   ]
  },
  {
   "cell_type": "code",
   "execution_count": 22,
   "metadata": {},
   "outputs": [
    {
     "name": "stdout",
     "output_type": "stream",
     "text": [
      "Mon    40\n",
      "Tue    60\n",
      "Wed    40\n",
      "Thu    50\n",
      "Fi     60\n",
      "Sat    80\n",
      "Sun     0\n",
      "Name: Sandwithes Weekly Sales Record, dtype: int64\n"
     ]
    }
   ],
   "source": [
    "# if the result can't store the sw display old values\n",
    "# if you store the multiply result than creat a object sw and store it\n",
    "sw = sw * 2\n",
    "print(sw)"
   ]
  },
  {
   "cell_type": "code",
   "execution_count": 23,
   "metadata": {},
   "outputs": [
    {
     "name": "stdout",
     "output_type": "stream",
     "text": [
      "Mon    40\n",
      "Tue    60\n",
      "Wed    40\n",
      "Thu    50\n",
      "Fi     60\n",
      "Sat    80\n",
      "Sun     0\n",
      "Name: Sandwithes Weekly Sales Record, dtype: int64\n"
     ]
    }
   ],
   "source": [
    "print(sw)"
   ]
  },
  {
   "cell_type": "code",
   "execution_count": 24,
   "metadata": {},
   "outputs": [
    {
     "name": "stdout",
     "output_type": "stream",
     "text": [
      "Mon    42\n",
      "Tue    62\n",
      "Wed    42\n",
      "Thu    52\n",
      "Fi     62\n",
      "Sat    82\n",
      "Sun     2\n",
      "Name: Sandwithes Weekly Sales Record, dtype: int64\n"
     ]
    }
   ],
   "source": [
    "# adding 2 in givan values\n",
    "sw = sw + 2\n",
    "print(sw)"
   ]
  },
  {
   "cell_type": "code",
   "execution_count": 25,
   "metadata": {},
   "outputs": [
    {
     "name": "stdout",
     "output_type": "stream",
     "text": [
      "Mon    40\n",
      "Tue    60\n",
      "Wed    40\n",
      "Thu    50\n",
      "Fi     60\n",
      "Sat    80\n",
      "Sun     0\n",
      "Name: Sandwithes Weekly Sales Record, dtype: int64\n"
     ]
    }
   ],
   "source": [
    "# subtract 2 in givan values\n",
    "sw = sw - 2\n",
    "print(sw)"
   ]
  },
  {
   "cell_type": "code",
   "execution_count": 26,
   "metadata": {},
   "outputs": [
    {
     "name": "stdout",
     "output_type": "stream",
     "text": [
      "Mon    4\n",
      "Tue    6\n",
      "Wed    4\n",
      "Thu    5\n",
      "Fi     6\n",
      "Sat    8\n",
      "Sun    0\n",
      "Name: Sandwithes Weekly Sales Record, dtype: int64\n"
     ]
    }
   ],
   "source": [
    "# Modulus 9 in givan values\n",
    "sw = sw % 9\n",
    "print(sw)"
   ]
  },
  {
   "cell_type": "code",
   "execution_count": 27,
   "metadata": {},
   "outputs": [
    {
     "name": "stdout",
     "output_type": "stream",
     "text": [
      "Mon    0.444444\n",
      "Tue    0.666667\n",
      "Wed    0.444444\n",
      "Thu    0.555556\n",
      "Fi     0.666667\n",
      "Sat    0.888889\n",
      "Sun    0.000000\n",
      "Name: Sandwithes Weekly Sales Record, dtype: float64\n"
     ]
    }
   ],
   "source": [
    "# Divide 9 in givan values\n",
    "sw = sw / 9\n",
    "print(sw)"
   ]
  },
  {
   "cell_type": "code",
   "execution_count": 28,
   "metadata": {},
   "outputs": [
    {
     "data": {
      "text/plain": [
       "True"
      ]
     },
     "execution_count": 28,
     "metadata": {},
     "output_type": "execute_result"
    }
   ],
   "source": [
    "# checking index in givan series exist or not_exist\n",
    "'Mon' in sw"
   ]
  },
  {
   "cell_type": "code",
   "execution_count": 29,
   "metadata": {},
   "outputs": [
    {
     "data": {
      "text/plain": [
       "False"
      ]
     },
     "execution_count": 29,
     "metadata": {},
     "output_type": "execute_result"
    }
   ],
   "source": [
    "# checking index in givan series exist or not_exist\n",
    "1 in sw"
   ]
  },
  {
   "cell_type": "code",
   "execution_count": 30,
   "metadata": {},
   "outputs": [
    {
     "data": {
      "text/plain": [
       "False"
      ]
     },
     "execution_count": 30,
     "metadata": {},
     "output_type": "execute_result"
    }
   ],
   "source": [
    "# checking index in givan series exist or not_exist\n",
    "'Jan' in sw"
   ]
  },
  {
   "cell_type": "code",
   "execution_count": 32,
   "metadata": {},
   "outputs": [
    {
     "data": {
      "text/plain": [
       "('Mon', True)"
      ]
     },
     "execution_count": 32,
     "metadata": {},
     "output_type": "execute_result"
    }
   ],
   "source": [
    "# checking index in givan series exist or not_exist\n",
    "'Mon', 'Thu' in sw"
   ]
  },
  {
   "cell_type": "code",
   "execution_count": 33,
   "metadata": {},
   "outputs": [
    {
     "data": {
      "text/plain": [
       "('Mon', False)"
      ]
     },
     "execution_count": 33,
     "metadata": {},
     "output_type": "execute_result"
    }
   ],
   "source": [
    "# checking index in givan series exist or not_exist\n",
    "'Mon', 5 in sw"
   ]
  },
  {
   "cell_type": "code",
   "execution_count": 34,
   "metadata": {},
   "outputs": [
    {
     "data": {
      "text/plain": [
       "('Mon', False)"
      ]
     },
     "execution_count": 34,
     "metadata": {},
     "output_type": "execute_result"
    }
   ],
   "source": [
    "# checking index in givan series exist or not_exist\n",
    "'Mon', 'Jan' in sw"
   ]
  },
  {
   "cell_type": "code",
   "execution_count": 35,
   "metadata": {},
   "outputs": [
    {
     "data": {
      "text/plain": [
       "('Jan', False)"
      ]
     },
     "execution_count": 35,
     "metadata": {},
     "output_type": "execute_result"
    }
   ],
   "source": [
    "# checking index in givan series exist or not_exist\n",
    "'Jan', '5' in sw"
   ]
  },
  {
   "cell_type": "code",
   "execution_count": 36,
   "metadata": {},
   "outputs": [
    {
     "data": {
      "text/plain": [
       "('Jan', True)"
      ]
     },
     "execution_count": 36,
     "metadata": {},
     "output_type": "execute_result"
    }
   ],
   "source": [
    "# checking index in givan series exist or not_exist\n",
    "'Jan', 'Thu' in sw"
   ]
  },
  {
   "cell_type": "code",
   "execution_count": 43,
   "metadata": {},
   "outputs": [
    {
     "data": {
      "text/plain": [
       "'Jan'"
      ]
     },
     "execution_count": 43,
     "metadata": {},
     "output_type": "execute_result"
    }
   ],
   "source": [
    "# checking index in givan series exist or not_exist\n",
    "'Jan' or 'Thu' in sw"
   ]
  },
  {
   "cell_type": "code",
   "execution_count": 44,
   "metadata": {},
   "outputs": [
    {
     "data": {
      "text/plain": [
       "'Jan'"
      ]
     },
     "execution_count": 44,
     "metadata": {},
     "output_type": "execute_result"
    }
   ],
   "source": [
    "# checking index in givan series exist or not_exist\n",
    "'Jan' or 'Thu' or 'Feb' in sw"
   ]
  },
  {
   "cell_type": "code",
   "execution_count": 49,
   "metadata": {},
   "outputs": [
    {
     "data": {
      "text/plain": [
       "20"
      ]
     },
     "execution_count": 49,
     "metadata": {},
     "output_type": "execute_result"
    }
   ],
   "source": [
    "sw = pd.Series([20, 30, 20, 25, 30, 40, 0], \n",
    "               index = ['Mon', 'Tue', 'Wed', 'Thu', 'Fi', 'Sat', 'Sun'], \n",
    "               name = \"Sandwithes Weekly Sales Record\")\n",
    "\n",
    "# checking index in givan series exist or not_exist\n",
    "20 or 40 in sw"
   ]
  },
  {
   "cell_type": "code",
   "execution_count": 50,
   "metadata": {},
   "outputs": [
    {
     "data": {
      "text/plain": [
       "True"
      ]
     },
     "execution_count": 50,
     "metadata": {},
     "output_type": "execute_result"
    }
   ],
   "source": [
    "# checking index in givan series exist or not_exist\n",
    "'Jan' and 'Thu' in sw"
   ]
  },
  {
   "cell_type": "code",
   "execution_count": 51,
   "metadata": {},
   "outputs": [
    {
     "data": {
      "text/plain": [
       "True"
      ]
     },
     "execution_count": 51,
     "metadata": {},
     "output_type": "execute_result"
    }
   ],
   "source": [
    "# checking index in givan series exist or not_exist\n",
    "('Jan' and 'Thu') in sw"
   ]
  },
  {
   "cell_type": "code",
   "execution_count": 52,
   "metadata": {},
   "outputs": [
    {
     "name": "stdout",
     "output_type": "stream",
     "text": [
      "a    3\n",
      "b    2\n",
      "c    4\n",
      "d    5\n",
      "e    6\n",
      "dtype: int32\n"
     ]
    }
   ],
   "source": [
    "import numpy as np\n",
    "# ind mean index\n",
    "\n",
    "arr = np.array([3, 2, 4, 5, 6])\n",
    "ind = np.array(['a','b','c','d','e'])\n",
    "\n",
    "obj = pd.Series(arr, index = ind) # arr mean get values and index = ind mean get index\n",
    "print(obj)"
   ]
  },
  {
   "cell_type": "markdown",
   "metadata": {},
   "source": [
    "# Creatin Series Using Dictionary"
   ]
  },
  {
   "cell_type": "code",
   "execution_count": 53,
   "metadata": {},
   "outputs": [
    {
     "name": "stdout",
     "output_type": "stream",
     "text": [
      "Sindh          35000\n",
      "Punjab          4500\n",
      "KPK              300\n",
      "Balochistan     2000\n",
      "dtype: int64\n"
     ]
    }
   ],
   "source": [
    "# fetch data in dictionary\n",
    "sdata = {\"Sindh\": 35000, \"Punjab\": 4500, \"KPK\": 300, \"Balochistan\": 2000}\n",
    "\n",
    "# create Series tax_by_state\n",
    "# provide Dictionary data in pandas series\n",
    "# pandas use dictionary keys as a index and values as a values\n",
    "tax_by_state = pd.Series(sdata)\n",
    "print(tax_by_state)"
   ]
  },
  {
   "cell_type": "code",
   "execution_count": 54,
   "metadata": {},
   "outputs": [
    {
     "name": "stdout",
     "output_type": "stream",
     "text": [
      "Sindh          35000\n",
      "Punjab          4500\n",
      "KPK              300\n",
      "Balochistan     2000\n",
      "dtype: int64\n",
      "Index(['Sindh', 'Punjab', 'KPK', 'Balochistan'], dtype='object')\n",
      "[35000  4500   300  2000]\n"
     ]
    }
   ],
   "source": [
    " # fetch data in dictionary\n",
    "sdata = {\"Sindh\": 35000, \"Punjab\": 4500, \"KPK\": 300, \"Balochistan\": 2000}\n",
    "\n",
    "# create Series tax_by_state\n",
    "# provide Dictionary data in pandas series\n",
    "# pandas use dictionary keys as a index and values as a values\n",
    "tax_by_state = pd.Series(sdata)\n",
    "print(tax_by_state)\n",
    "\n",
    "# for example we separately index and values so\n",
    "print(tax_by_state.index)\n",
    "print(tax_by_state.values)"
   ]
  },
  {
   "cell_type": "code",
   "execution_count": 55,
   "metadata": {},
   "outputs": [
    {
     "name": "stdout",
     "output_type": "stream",
     "text": [
      "Punjab         45000\n",
      "Sindh          35000\n",
      "KPK             3000\n",
      "Balochistan    20000\n",
      "dtype: int64\n"
     ]
    }
   ],
   "source": [
    " # fetch data in dictionary\n",
    "sdata = {\"Sindh\": 35000, \"Punjab\": 45000, \"KPK\": 3000, \"Balochistan\": 20000}\n",
    "\n",
    "# create Series tax_by_state\n",
    "# provide Dictionary data in pandas series\n",
    "# pandas use dictionary keys as a index and values as a values\n",
    "# chane the index series mean we write first \"Punjab\"\n",
    "tax_by_state = pd.Series(sdata, index = [\"Punjab\", \"Sindh\", \"KPK\", \"Balochistan\"])\n",
    "print(tax_by_state)\n",
    "\n",
    "# for example we separately index and values so\n",
    "# print(tax_by_state.index)\n",
    "# print(tax_by_state.values)"
   ]
  },
  {
   "cell_type": "code",
   "execution_count": 56,
   "metadata": {},
   "outputs": [
    {
     "name": "stdout",
     "output_type": "stream",
     "text": [
      "Punjab              45000.0\n",
      "Sindh               35000.0\n",
      "KPK                  3000.0\n",
      "Balochistan         20000.0\n",
      "Gilgit Baltistan        NaN\n",
      "dtype: float64\n",
      "Punjab              False\n",
      "Sindh               False\n",
      "KPK                 False\n",
      "Balochistan         False\n",
      "Gilgit Baltistan     True\n",
      "dtype: bool\n"
     ]
    }
   ],
   "source": [
    " # fetch data in dictionary\n",
    "sdata = {\"Sindh\": 35000, \"Punjab\": 45000, \"KPK\": 3000, \"Balochistan\": 20000}\n",
    "\n",
    "# create Series tax_by_state\n",
    "# provide Dictionary data in pandas series\n",
    "# pandas use dictionary keys as a index and values as a values\n",
    "# chane the index series mean we write first \"Punjab\"\n",
    "# Identify null value given index\n",
    "# We write \"Gilgit Baltistan\" in index\n",
    "tax_by_state = pd.Series(sdata, index = [\"Punjab\", \"Sindh\", \"KPK\", \"Balochistan\", \"Gilgit Baltistan\"])\n",
    "print(tax_by_state)\n",
    "print(pd.isnull(tax_by_state))"
   ]
  },
  {
   "cell_type": "code",
   "execution_count": 57,
   "metadata": {},
   "outputs": [
    {
     "data": {
      "text/plain": [
       "Punjab              False\n",
       "Sindh               False\n",
       "KPK                 False\n",
       "Balochistan         False\n",
       "Gilgit Baltistan     True\n",
       "dtype: bool"
      ]
     },
     "execution_count": 57,
     "metadata": {},
     "output_type": "execute_result"
    }
   ],
   "source": [
    "# NaN values mean, values does not exist in pandas series\n",
    "pd.isnull(tax_by_state)\n",
    "tax_by_state.isnull()"
   ]
  },
  {
   "cell_type": "code",
   "execution_count": 58,
   "metadata": {},
   "outputs": [
    {
     "name": "stdout",
     "output_type": "stream",
     "text": [
      "State Name\n",
      "Punjab              45000.0\n",
      "Sindh               35000.0\n",
      "KPK                  3000.0\n",
      "Balochistan         20000.0\n",
      "Gilgit Baltistan        NaN\n",
      "Name: State Tax Paying Capacity, dtype: float64\n",
      "Index(['Punjab', 'Sindh', 'KPK', 'Balochistan', 'Gilgit Baltistan'], dtype='object', name='State Name')\n"
     ]
    }
   ],
   "source": [
    "tax_by_state.name = \"State Tax Paying Capacity\"\n",
    "tax_by_state.index.name = \"State Name\"\n",
    "print(tax_by_state)\n",
    "print(tax_by_state.index)"
   ]
  },
  {
   "cell_type": "code",
   "execution_count": 59,
   "metadata": {},
   "outputs": [
    {
     "name": "stdout",
     "output_type": "stream",
     "text": [
      "Mon    20\n",
      "Tue    30\n",
      "Wed    20\n",
      "Thu    25\n",
      "Fi     30\n",
      "Sat    40\n",
      "Sun     0\n",
      "dtype: int64\n"
     ]
    }
   ],
   "source": [
    "# Create sandwithes(sw) Series \n",
    "sw = pd.Series([20, 30, 20, 25, 30, 40, 0], index = ['Mon', 'Tue', 'Wed', 'Thu', 'Fi', 'Sat', 'Sun'])\n",
    "print(sw)\n",
    "\n",
    "sw.index = [\"M\", \"T\", \"W\", \"T\", \"F\", \"S\", \"S\"]"
   ]
  },
  {
   "cell_type": "code",
   "execution_count": 60,
   "metadata": {},
   "outputs": [
    {
     "name": "stdout",
     "output_type": "stream",
     "text": [
      "Mon    20\n",
      "Tue    30\n",
      "Wed    20\n",
      "Thu    25\n",
      "Fi     30\n",
      "Sat    40\n",
      "Sun     0\n",
      "dtype: int64\n",
      "M    20\n",
      "T    30\n",
      "W    20\n",
      "T    25\n",
      "F    30\n",
      "S    40\n",
      "S     0\n",
      "dtype: int64\n"
     ]
    }
   ],
   "source": [
    "# Create sandwithes(sw) Series \n",
    "sw = pd.Series([20, 30, 20, 25, 30, 40, 0], index = ['Mon', 'Tue', 'Wed', 'Thu', 'Fi', 'Sat', 'Sun'])\n",
    "print(sw)\n",
    "\n",
    "# change index name\n",
    "sw.index = [\"M\", \"T\", \"W\", \"T\", \"F\", \"S\", \"S\"]\n",
    "print(sw)"
   ]
  },
  {
   "cell_type": "markdown",
   "metadata": {},
   "source": [
    "**Source For Series Data**\n",
    "    *direct data in the Series Method\n",
    "    *From NumPy Array Or List\n",
    "    *From Dictionary"
   ]
  },
  {
   "cell_type": "code",
   "execution_count": null,
   "metadata": {},
   "outputs": [],
   "source": []
  }
 ],
 "metadata": {
  "kernelspec": {
   "display_name": "Python 3",
   "language": "python",
   "name": "python3"
  },
  "language_info": {
   "codemirror_mode": {
    "name": "ipython",
    "version": 3
   },
   "file_extension": ".py",
   "mimetype": "text/x-python",
   "name": "python",
   "nbconvert_exporter": "python",
   "pygments_lexer": "ipython3",
   "version": "3.7.7"
  }
 },
 "nbformat": 4,
 "nbformat_minor": 4
}
