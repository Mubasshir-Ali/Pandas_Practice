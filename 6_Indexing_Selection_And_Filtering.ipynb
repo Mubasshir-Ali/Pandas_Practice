{
 "cells": [
  {
   "cell_type": "code",
   "execution_count": 1,
   "metadata": {},
   "outputs": [],
   "source": [
    "import numpy as np\n",
    "import pandas as pd"
   ]
  },
  {
   "cell_type": "code",
   "execution_count": 2,
   "metadata": {},
   "outputs": [
    {
     "name": "stdout",
     "output_type": "stream",
     "text": [
      "          one  two  three  four\n",
      "Ohio        0    1      2     3\n",
      "Colorada    4    5      6     7\n",
      "Utah        8    9     10    11\n",
      "New York   12   13     14    15 \n",
      "\n",
      "Ohio        False\n",
      "Colorada     True\n",
      "Utah         True\n",
      "New York     True\n",
      "Name: three, dtype: bool\n",
      "          one  two  three  four\n",
      "Colorada    4    5      6     7\n",
      "Utah        8    9     10    11\n",
      "New York   12   13     14    15\n"
     ]
    }
   ],
   "source": [
    "data_df = pd.DataFrame(np.arange(16).reshape((4, 4)), \n",
    "                      index = ['Ohio', 'Colorada', 'Utah', 'New York'],\n",
    "                      columns = ['one', 'two', 'three', 'four'])\n",
    "#print(data_df, \"\\n\")\n",
    "#data_df[ ['one', 'three'] ]\n",
    "#print(data_df[2:])\n",
    "#print(data_df.Ohio[:2])\n",
    "\n",
    "# Conditional Selection\n",
    "#print(data_df[data_df['three'] > 5])\n",
    "print(data_df, \"\\n\")\n",
    "\n",
    "df2 = data_df[\"three\"] > 5\n",
    "print(df2)\n",
    "print(data_df[ data_df[\"three\"] > 5])\n"
   ]
  },
  {
   "cell_type": "code",
   "execution_count": 3,
   "metadata": {},
   "outputs": [
    {
     "name": "stdout",
     "output_type": "stream",
     "text": [
      "          one  two  three  four\n",
      "Ohio        0    1      2     3\n",
      "Colorada    4    5      6     7\n",
      "Utah        8    9     10    11\n",
      "New York   12   13     14    15 \n",
      "\n"
     ]
    },
    {
     "data": {
      "text/html": [
       "<div>\n",
       "<style scoped>\n",
       "    .dataframe tbody tr th:only-of-type {\n",
       "        vertical-align: middle;\n",
       "    }\n",
       "\n",
       "    .dataframe tbody tr th {\n",
       "        vertical-align: top;\n",
       "    }\n",
       "\n",
       "    .dataframe thead th {\n",
       "        text-align: right;\n",
       "    }\n",
       "</style>\n",
       "<table border=\"1\" class=\"dataframe\">\n",
       "  <thead>\n",
       "    <tr style=\"text-align: right;\">\n",
       "      <th></th>\n",
       "      <th>one</th>\n",
       "      <th>three</th>\n",
       "    </tr>\n",
       "  </thead>\n",
       "  <tbody>\n",
       "    <tr>\n",
       "      <th>Ohio</th>\n",
       "      <td>0</td>\n",
       "      <td>2</td>\n",
       "    </tr>\n",
       "    <tr>\n",
       "      <th>Colorada</th>\n",
       "      <td>4</td>\n",
       "      <td>6</td>\n",
       "    </tr>\n",
       "    <tr>\n",
       "      <th>Utah</th>\n",
       "      <td>8</td>\n",
       "      <td>10</td>\n",
       "    </tr>\n",
       "    <tr>\n",
       "      <th>New York</th>\n",
       "      <td>12</td>\n",
       "      <td>14</td>\n",
       "    </tr>\n",
       "  </tbody>\n",
       "</table>\n",
       "</div>"
      ],
      "text/plain": [
       "          one  three\n",
       "Ohio        0      2\n",
       "Colorada    4      6\n",
       "Utah        8     10\n",
       "New York   12     14"
      ]
     },
     "execution_count": 3,
     "metadata": {},
     "output_type": "execute_result"
    }
   ],
   "source": [
    "data_df = pd.DataFrame(np.arange(16).reshape((4, 4)), \n",
    "                      index = ['Ohio', 'Colorada', 'Utah', 'New York'],\n",
    "                      columns = ['one', 'two', 'three', 'four'])\n",
    "print(data_df, \"\\n\")\n",
    "data_df[ ['one', 'three'] ]"
   ]
  },
  {
   "cell_type": "code",
   "execution_count": 4,
   "metadata": {},
   "outputs": [
    {
     "name": "stdout",
     "output_type": "stream",
     "text": [
      "          one  two  three  four\n",
      "Utah        8    9     10    11\n",
      "New York   12   13     14    15\n"
     ]
    }
   ],
   "source": [
    "data_df = pd.DataFrame(np.arange(16).reshape((4, 4)), \n",
    "                      index = ['Ohio', 'Colorada', 'Utah', 'New York'],\n",
    "                      columns = ['one', 'two', 'three', 'four'])\n",
    "\n",
    "print(data_df[2:])"
   ]
  },
  {
   "cell_type": "code",
   "execution_count": 6,
   "metadata": {},
   "outputs": [
    {
     "name": "stdout",
     "output_type": "stream",
     "text": [
      "          one  two  three  four\n",
      "Ohio        0    1      2     3\n",
      "Colorada    4    5      6     7\n",
      "Utah        8    9     10    11\n",
      "New York   12   13     14    15 \n",
      "\n",
      "Ohio        False\n",
      "Colorada     True\n",
      "Utah         True\n",
      "New York     True\n",
      "Name: three, dtype: bool\n"
     ]
    }
   ],
   "source": [
    "data_df = pd.DataFrame(np.arange(16).reshape((4, 4)), \n",
    "                      index = ['Ohio', 'Colorada', 'Utah', 'New York'],\n",
    "                      columns = ['one', 'two', 'three', 'four'])\n",
    "\n",
    "# Conditional Selection\n",
    "#print(data_df[data_df['three'] > 5])\n",
    "print(data_df, \"\\n\")\n",
    "\n",
    "df2 = data_df[\"three\"] > 5\n",
    "print(df2)"
   ]
  },
  {
   "cell_type": "code",
   "execution_count": 7,
   "metadata": {},
   "outputs": [
    {
     "name": "stdout",
     "output_type": "stream",
     "text": [
      "          one  two  three  four\n",
      "Colorada    4    5      6     7\n",
      "Utah        8    9     10    11\n",
      "New York   12   13     14    15\n"
     ]
    }
   ],
   "source": [
    "data_df = pd.DataFrame(np.arange(16).reshape((4, 4)), \n",
    "                      index = ['Ohio', 'Colorada', 'Utah', 'New York'],\n",
    "                      columns = ['one', 'two', 'three', 'four'])\n",
    "\n",
    "print(data_df[ data_df[\"three\"] > 5])"
   ]
  },
  {
   "cell_type": "code",
   "execution_count": 8,
   "metadata": {},
   "outputs": [
    {
     "name": "stdout",
     "output_type": "stream",
     "text": [
      "          one  two  three  four\n",
      "Ohio        0    1      2     3\n",
      "Colorada    4    5      6     7\n",
      "Utah        8    9     10    11\n",
      "New York   12   13     14    15 \n",
      "\n",
      "Ohio        False\n",
      "Colorada     True\n",
      "Utah         True\n",
      "New York     True\n",
      "Name: three, dtype: bool\n",
      "      one  two  three  four\n",
      "Ohio    0    1      2     3\n"
     ]
    }
   ],
   "source": [
    "data_df = pd.DataFrame(np.arange(16).reshape((4, 4)), \n",
    "                      index = ['Ohio', 'Colorada', 'Utah', 'New York'],\n",
    "                      columns = ['one', 'two', 'three', 'four'])\n",
    "\n",
    "print(data_df, \"\\n\")\n",
    "\n",
    "df2 = data_df[\"three\"] > 5\n",
    "print(df2)\n",
    "print(data_df[ data_df[\"three\"] < 5])\n"
   ]
  },
  {
   "cell_type": "code",
   "execution_count": 9,
   "metadata": {},
   "outputs": [
    {
     "name": "stdout",
     "output_type": "stream",
     "text": [
      "          one  two  three  four\n",
      "Ohio        0    1      2     3\n",
      "Colorada    4    5      6     7\n",
      "Utah        8    9     10    11\n",
      "New York   12   13     14    15 \n",
      "\n",
      "Ohio        False\n",
      "Colorada     True\n",
      "Utah         True\n",
      "New York     True\n",
      "Name: three, dtype: bool\n",
      "Empty DataFrame\n",
      "Columns: [one, two, three, four]\n",
      "Index: []\n"
     ]
    }
   ],
   "source": [
    "data_df = pd.DataFrame(np.arange(16).reshape((4, 4)), \n",
    "                      index = ['Ohio', 'Colorada', 'Utah', 'New York'],\n",
    "                      columns = ['one', 'two', 'three', 'four'])\n",
    "\n",
    "print(data_df, \"\\n\")\n",
    "\n",
    "df2 = data_df[\"three\"] > 5\n",
    "print(df2)\n",
    "print(data_df[ data_df[\"three\"] > 19])\n"
   ]
  },
  {
   "cell_type": "code",
   "execution_count": 10,
   "metadata": {},
   "outputs": [
    {
     "name": "stdout",
     "output_type": "stream",
     "text": [
      "          one  two  three  four\n",
      "Ohio        0    1      2     3\n",
      "Colorada    4    5      6     7\n",
      "Utah        8    9     10    11\n",
      "New York   12   13     14    15 \n",
      "\n",
      "Ohio         True\n",
      "Colorada    False\n",
      "Utah        False\n",
      "New York    False\n",
      "Name: three, dtype: bool\n",
      "Empty DataFrame\n",
      "Columns: [one, two, three, four]\n",
      "Index: []\n"
     ]
    }
   ],
   "source": [
    "data_df = pd.DataFrame(np.arange(16).reshape((4, 4)), \n",
    "                      index = ['Ohio', 'Colorada', 'Utah', 'New York'],\n",
    "                      columns = ['one', 'two', 'three', 'four'])\n",
    "\n",
    "print(data_df, \"\\n\")\n",
    "\n",
    "df2 = data_df[\"three\"] < 5\n",
    "print(df2)\n",
    "print(data_df[ data_df[\"three\"] > 18])\n"
   ]
  },
  {
   "cell_type": "code",
   "execution_count": 11,
   "metadata": {},
   "outputs": [
    {
     "name": "stdout",
     "output_type": "stream",
     "text": [
      "          one  two  three  four\n",
      "Ohio        0    1      2     3\n",
      "Colorada    4    5      6     7\n",
      "Utah        8    9     10    11\n",
      "New York   12   13     14    15 \n",
      "\n",
      "Ohio        False\n",
      "Colorada    False\n",
      "Utah        False\n",
      "New York    False\n",
      "Name: three, dtype: bool\n",
      "          one  two  three  four\n",
      "Ohio        0    1      2     3\n",
      "Colorada    4    5      6     7\n",
      "Utah        8    9     10    11\n",
      "New York   12   13     14    15\n"
     ]
    }
   ],
   "source": [
    "data_df = pd.DataFrame(np.arange(16).reshape((4, 4)), \n",
    "                      index = ['Ohio', 'Colorada', 'Utah', 'New York'],\n",
    "                      columns = ['one', 'two', 'three', 'four'])\n",
    "\n",
    "print(data_df, \"\\n\")\n",
    "\n",
    "df2 = data_df[\"three\"] > 30\n",
    "print(df2)\n",
    "print(data_df[ data_df[\"three\"] < 15])\n"
   ]
  },
  {
   "cell_type": "code",
   "execution_count": 12,
   "metadata": {},
   "outputs": [
    {
     "name": "stdout",
     "output_type": "stream",
     "text": [
      "          one  two  three  four\n",
      "Ohio        0    1      2     3\n",
      "Colorada    4    5      6     7\n",
      "Utah        8    9     10    11\n",
      "New York   12   13     14    15 \n",
      "\n",
      "Ohio        False\n",
      "Colorada    False\n",
      "Utah        False\n",
      "New York    False\n",
      "Name: three, dtype: bool\n",
      "          one  two  three  four\n",
      "Ohio        0    1      2     3\n",
      "Colorada    4    5      6     7\n",
      "Utah        8    9     10    11\n",
      "New York   12   13     14    15\n"
     ]
    }
   ],
   "source": [
    "data_df = pd.DataFrame(np.arange(16).reshape((4, 4)), \n",
    "                      index = ['Ohio', 'Colorada', 'Utah', 'New York'],\n",
    "                      columns = ['one', 'two', 'three', 'four'])\n",
    "\n",
    "print(data_df, \"\\n\")\n",
    "\n",
    "df2 = data_df[\"three\"] > 100\n",
    "print(df2)\n",
    "print(data_df[ data_df[\"three\"] < 50])\n"
   ]
  },
  {
   "cell_type": "code",
   "execution_count": 13,
   "metadata": {},
   "outputs": [
    {
     "name": "stdout",
     "output_type": "stream",
     "text": [
      "          one  two  three  four\n",
      "Ohio        0    1      2     3\n",
      "Colorada    4    5      6     7\n",
      "Utah        8    9     10    11\n",
      "New York   12   13     14    15 \n",
      "\n",
      "Ohio        False\n",
      "Colorada     True\n",
      "Utah         True\n",
      "New York     True\n",
      "Name: four, dtype: bool\n",
      "      one  two  three  four\n",
      "Ohio    0    1      2     3\n"
     ]
    }
   ],
   "source": [
    "data_df = pd.DataFrame(np.arange(16).reshape((4, 4)), \n",
    "                      index = ['Ohio', 'Colorada', 'Utah', 'New York'],\n",
    "                      columns = ['one', 'two', 'three', 'four'])\n",
    "\n",
    "print(data_df, \"\\n\")\n",
    "\n",
    "df2 = data_df[\"four\"] > 5\n",
    "print(df2)\n",
    "print(data_df[ data_df[\"three\"] < 5])\n"
   ]
  },
  {
   "cell_type": "code",
   "execution_count": 14,
   "metadata": {},
   "outputs": [
    {
     "name": "stdout",
     "output_type": "stream",
     "text": [
      "          one  two  three  four\n",
      "Ohio        0    1      2     3\n",
      "Colorada    4    5      6     7\n",
      "Utah        8    9     10    11\n",
      "New York   12   13     14    15 \n",
      "\n",
      "Ohio        False\n",
      "Colorada     True\n",
      "Utah         True\n",
      "New York     True\n",
      "Name: four, dtype: bool\n",
      "          one  two  three  four\n",
      "Ohio        0    1      2     3\n",
      "Colorada    4    5      6     7\n"
     ]
    }
   ],
   "source": [
    "data_df = pd.DataFrame(np.arange(16).reshape((4, 4)), \n",
    "                      index = ['Ohio', 'Colorada', 'Utah', 'New York'],\n",
    "                      columns = ['one', 'two', 'three', 'four'])\n",
    "\n",
    "print(data_df, \"\\n\")\n",
    "\n",
    "df2 = data_df[\"four\"] > 5\n",
    "print(df2)\n",
    "print(data_df[ data_df[\"one\"] < 5])\n"
   ]
  },
  {
   "cell_type": "code",
   "execution_count": 15,
   "metadata": {},
   "outputs": [
    {
     "name": "stdout",
     "output_type": "stream",
     "text": [
      "          one  two  three  four\n",
      "Ohio        0    1      2     3\n",
      "Colorada    4    5      6     7\n",
      "Utah        8    9     10    11\n",
      "New York   12   13     14    15 \n",
      "\n",
      "Ohio        False\n",
      "Colorada     True\n",
      "Utah         True\n",
      "New York     True\n",
      "Name: four, dtype: bool\n",
      "      one  two  three  four\n",
      "Ohio    0    1      2     3\n"
     ]
    }
   ],
   "source": [
    "data_df = pd.DataFrame(np.arange(16).reshape((4, 4)), \n",
    "                      index = ['Ohio', 'Colorada', 'Utah', 'New York'],\n",
    "                      columns = ['one', 'two', 'three', 'four'])\n",
    "\n",
    "print(data_df, \"\\n\")\n",
    "\n",
    "df2 = data_df[\"four\"] > 5\n",
    "print(df2)\n",
    "print(data_df[ data_df[\"two\"] < 5])\n"
   ]
  },
  {
   "cell_type": "code",
   "execution_count": 16,
   "metadata": {},
   "outputs": [
    {
     "name": "stdout",
     "output_type": "stream",
     "text": [
      "          one  two  three  four\n",
      "Ohio        0    1      2     3\n",
      "Colorada    4    5      6     7\n",
      "Utah        8    9     10    11\n",
      "New York   12   13     14    15 \n",
      "\n",
      "Ohio        False\n",
      "Colorada    False\n",
      "Utah         True\n",
      "New York     True\n",
      "Name: one, dtype: bool\n",
      "      one  two  three  four\n",
      "Ohio    0    1      2     3\n"
     ]
    }
   ],
   "source": [
    "data_df = pd.DataFrame(np.arange(16).reshape((4, 4)), \n",
    "                      index = ['Ohio', 'Colorada', 'Utah', 'New York'],\n",
    "                      columns = ['one', 'two', 'three', 'four'])\n",
    "\n",
    "print(data_df, \"\\n\")\n",
    "\n",
    "df2 = data_df[\"one\"] > 5\n",
    "print(df2)\n",
    "print(data_df[ data_df[\"two\"] < 5])\n"
   ]
  },
  {
   "cell_type": "code",
   "execution_count": 17,
   "metadata": {},
   "outputs": [
    {
     "name": "stdout",
     "output_type": "stream",
     "text": [
      "          one  two  three  four\n",
      "Ohio        0    1      2     3\n",
      "Colorada    4    5      6     7\n",
      "Utah        8    9     10    11\n",
      "New York   12   13     14    15 \n",
      "\n",
      "Ohio        False\n",
      "Colorada    False\n",
      "Utah         True\n",
      "New York     True\n",
      "Name: one, dtype: bool\n",
      "      one  two  three  four\n",
      "Ohio    0    1      2     3\n"
     ]
    }
   ],
   "source": [
    "data_df = pd.DataFrame(np.arange(16).reshape((4, 4)), \n",
    "                      index = ['Ohio', 'Colorada', 'Utah', 'New York'],\n",
    "                      columns = ['one', 'two', 'three', 'four'])\n",
    "\n",
    "print(data_df, \"\\n\")\n",
    "\n",
    "df2 = data_df[\"one\"] > 5\n",
    "print(df2)\n",
    "print(data_df[ data_df[\"four\"] < 5])\n"
   ]
  },
  {
   "cell_type": "code",
   "execution_count": 18,
   "metadata": {},
   "outputs": [
    {
     "name": "stdout",
     "output_type": "stream",
     "text": [
      "          one  two  three  four\n",
      "Ohio        0    1      2     3\n",
      "Colorada    4    5      6     7\n",
      "Utah        8    9     10    11\n",
      "New York   12   13     14    15 \n",
      "\n",
      "Ohio        False\n",
      "Colorada    False\n",
      "Utah         True\n",
      "New York     True\n",
      "Name: two, dtype: bool\n",
      "      one  two  three  four\n",
      "Ohio    0    1      2     3\n"
     ]
    }
   ],
   "source": [
    "data_df = pd.DataFrame(np.arange(16).reshape((4, 4)), \n",
    "                      index = ['Ohio', 'Colorada', 'Utah', 'New York'],\n",
    "                      columns = ['one', 'two', 'three', 'four'])\n",
    "\n",
    "print(data_df, \"\\n\")\n",
    "\n",
    "df2 = data_df[\"two\"] > 5\n",
    "print(df2)\n",
    "print(data_df[ data_df[\"two\"] < 5])\n"
   ]
  },
  {
   "cell_type": "code",
   "execution_count": 22,
   "metadata": {},
   "outputs": [
    {
     "name": "stdout",
     "output_type": "stream",
     "text": [
      "          one  two  three  four\n",
      "Ohio        0    1      2     3\n",
      "Colorada    4    5      6     7\n",
      "Utah        8    9     10    11\n",
      "New York   12   13     14    15 \n",
      "\n",
      "Ohio        False\n",
      "Colorada    False\n",
      "Utah        False\n",
      "New York    False\n",
      "Name: one, dtype: bool\n",
      "          one  two  three  four\n",
      "Colorada    4    5      6     7\n"
     ]
    }
   ],
   "source": [
    "data_df = pd.DataFrame(np.arange(16).reshape((4, 4)), \n",
    "                      index = ['Ohio', 'Colorada', 'Utah', 'New York'],\n",
    "                      columns = ['one', 'two', 'three', 'four'])\n",
    "\n",
    "print(data_df, \"\\n\")\n",
    "\n",
    "df2 = data_df[\"one\"] == 5\n",
    "print(df2)\n",
    "print(data_df[ data_df[\"two\"] == 5])\n"
   ]
  },
  {
   "cell_type": "code",
   "execution_count": 23,
   "metadata": {},
   "outputs": [
    {
     "name": "stdout",
     "output_type": "stream",
     "text": [
      "          one  two  three  four\n",
      "Ohio        0    1      2     3\n",
      "Colorada    4    5      6     7\n",
      "Utah        8    9     10    11\n",
      "New York   12   13     14    15 \n",
      "\n",
      "Ohio        True\n",
      "Colorada    True\n",
      "Utah        True\n",
      "New York    True\n",
      "Name: one, dtype: bool\n",
      "          one  two  three  four\n",
      "Ohio        0    1      2     3\n",
      "Utah        8    9     10    11\n",
      "New York   12   13     14    15\n"
     ]
    }
   ],
   "source": [
    "data_df = pd.DataFrame(np.arange(16).reshape((4, 4)), \n",
    "                      index = ['Ohio', 'Colorada', 'Utah', 'New York'],\n",
    "                      columns = ['one', 'two', 'three', 'four'])\n",
    "\n",
    "print(data_df, \"\\n\")\n",
    "\n",
    "df2 = data_df[\"one\"] != 5\n",
    "print(df2)\n",
    "print(data_df[ data_df[\"two\"] != 5])\n"
   ]
  },
  {
   "cell_type": "code",
   "execution_count": 26,
   "metadata": {},
   "outputs": [
    {
     "name": "stdout",
     "output_type": "stream",
     "text": [
      "          one  two  three  four\n",
      "Ohio        0    1      2     3\n",
      "Colorada    4    5      6     7\n",
      "Utah        8    9     10    11\n",
      "New York   12   13     14    15 \n",
      "\n",
      "Ohio        False\n",
      "Colorada    False\n",
      "Utah         True\n",
      "New York     True\n",
      "Name: one, dtype: bool\n",
      "          one  two  three  four\n",
      "Colorada    4    5      6     7\n",
      "Utah        8    9     10    11\n",
      "New York   12   13     14    15\n"
     ]
    }
   ],
   "source": [
    "data_df = pd.DataFrame(np.arange(16).reshape((4, 4)), \n",
    "                      index = ['Ohio', 'Colorada', 'Utah', 'New York'],\n",
    "                      columns = ['one', 'two', 'three', 'four'])\n",
    "\n",
    "print(data_df, \"\\n\")\n",
    "\n",
    "df2 = data_df[\"one\"] >= 5\n",
    "print(df2)\n",
    "print(data_df[ data_df[\"two\"] >= 5])\n"
   ]
  },
  {
   "cell_type": "code",
   "execution_count": 27,
   "metadata": {},
   "outputs": [
    {
     "name": "stdout",
     "output_type": "stream",
     "text": [
      "          one  two  three  four\n",
      "Ohio        0    1      2     3\n",
      "Colorada    4    5      6     7\n",
      "Utah        8    9     10    11\n",
      "New York   12   13     14    15 \n",
      "\n",
      "Ohio         True\n",
      "Colorada     True\n",
      "Utah        False\n",
      "New York    False\n",
      "Name: one, dtype: bool\n",
      "          one  two  three  four\n",
      "Ohio        0    1      2     3\n",
      "Colorada    4    5      6     7\n"
     ]
    }
   ],
   "source": [
    "data_df = pd.DataFrame(np.arange(16).reshape((4, 4)), \n",
    "                      index = ['Ohio', 'Colorada', 'Utah', 'New York'],\n",
    "                      columns = ['one', 'two', 'three', 'four'])\n",
    "\n",
    "print(data_df, \"\\n\")\n",
    "\n",
    "df2 = data_df[\"one\"] <= 5\n",
    "print(df2)\n",
    "print(data_df[ data_df[\"two\"] <= 5])\n"
   ]
  },
  {
   "cell_type": "code",
   "execution_count": 29,
   "metadata": {},
   "outputs": [
    {
     "name": "stdout",
     "output_type": "stream",
     "text": [
      "          one  two  three  four\n",
      "Ohio        0    1      2     3\n",
      "Colorada    4    5      6     7\n",
      "Utah        8    9     10    11\n",
      "New York   12   13     14    15 \n",
      "\n",
      "Ohio        False\n",
      "Colorada    False\n",
      "Utah        False\n",
      "New York    False\n",
      "Name: one, dtype: bool\n",
      "Empty DataFrame\n",
      "Columns: [one, two, three, four]\n",
      "Index: []\n"
     ]
    }
   ],
   "source": [
    "data_df = pd.DataFrame(np.arange(16).reshape((4, 4)), \n",
    "                      index = ['Ohio', 'Colorada', 'Utah', 'New York'],\n",
    "                      columns = ['one', 'two', 'three', 'four'])\n",
    "\n",
    "print(data_df, \"\\n\")\n",
    "\n",
    "df2 = data_df[\"one\"] == 5\n",
    "print(df2)\n",
    "print(data_df[ data_df[\"four\"] == 5])\n"
   ]
  },
  {
   "cell_type": "code",
   "execution_count": 30,
   "metadata": {},
   "outputs": [
    {
     "name": "stdout",
     "output_type": "stream",
     "text": [
      "          one  two  three  four\n",
      "Ohio        0    1      2     3\n",
      "Colorada    4    5      6     7\n",
      "Utah        8    9     10    11\n",
      "New York   12   13     14    15 \n",
      "\n",
      "Ohio        False\n",
      "Colorada    False\n",
      "Utah         True\n",
      "New York     True\n",
      "Name: one, dtype: bool\n",
      "Empty DataFrame\n",
      "Columns: [one, two, three, four]\n",
      "Index: []\n"
     ]
    }
   ],
   "source": [
    "data_df = pd.DataFrame(np.arange(16).reshape((4, 4)), \n",
    "                      index = ['Ohio', 'Colorada', 'Utah', 'New York'],\n",
    "                      columns = ['one', 'two', 'three', 'four'])\n",
    "\n",
    "print(data_df, \"\\n\")\n",
    "\n",
    "df2 = data_df[\"one\"] >= 5\n",
    "print(df2)\n",
    "print(data_df[ data_df[\"four\"] == 5])\n"
   ]
  },
  {
   "cell_type": "code",
   "execution_count": 35,
   "metadata": {},
   "outputs": [
    {
     "name": "stdout",
     "output_type": "stream",
     "text": [
      "          one  two  three  four\n",
      "Colorada    4    5      6     7\n",
      "Utah        8    9     10    11\n",
      "New York   12   13     14    15\n"
     ]
    }
   ],
   "source": [
    "data_df = pd.DataFrame(np.arange(16).reshape((4, 4)), \n",
    "                      index = ['Ohio', 'Colorada', 'Utah', 'New York'],\n",
    "                      columns = ['one', 'two', 'three', 'four'])\n",
    "\n",
    "print(data_df[ data_df[(\"four\") or ('two')] > 5])\n"
   ]
  },
  {
   "cell_type": "code",
   "execution_count": 36,
   "metadata": {},
   "outputs": [
    {
     "name": "stdout",
     "output_type": "stream",
     "text": [
      "          one  two  three  four\n",
      "Ohio      NaN  NaN    NaN   NaN\n",
      "Colorada  NaN  NaN    NaN   7.0\n",
      "Utah      NaN  NaN    NaN  11.0\n",
      "New York  NaN  NaN    NaN  15.0\n"
     ]
    }
   ],
   "source": [
    "data_df = pd.DataFrame(np.arange(16).reshape((4, 4)), \n",
    "                      index = ['Ohio', 'Colorada', 'Utah', 'New York'],\n",
    "                      columns = ['one', 'two', 'three', 'four'])\n",
    "\n",
    "print(data_df[ data_df[[\"four\"] or ['two']] > 5])\n"
   ]
  },
  {
   "cell_type": "code",
   "execution_count": 37,
   "metadata": {},
   "outputs": [
    {
     "name": "stdout",
     "output_type": "stream",
     "text": [
      "          one   two  three  four\n",
      "Ohio      NaN   NaN    NaN   NaN\n",
      "Colorada  NaN   NaN    NaN   NaN\n",
      "Utah      NaN   9.0    NaN   NaN\n",
      "New York  NaN  13.0    NaN   NaN\n"
     ]
    }
   ],
   "source": [
    "data_df = pd.DataFrame(np.arange(16).reshape((4, 4)), \n",
    "                      index = ['Ohio', 'Colorada', 'Utah', 'New York'],\n",
    "                      columns = ['one', 'two', 'three', 'four'])\n",
    "\n",
    "print(data_df[ data_df[[\"four\"] and ['two']] > 5])\n"
   ]
  },
  {
   "cell_type": "code",
   "execution_count": 39,
   "metadata": {},
   "outputs": [
    {
     "name": "stdout",
     "output_type": "stream",
     "text": [
      "          one  two  three  four\n",
      "Ohio        0    1      2     3\n",
      "Colorada    4    5      6     7\n",
      "Utah        8    9     10    11\n",
      "New York   12   13     14    15\n",
      "-----------------------------------------\n",
      "          one  two  three  four\n",
      "Utah        8    9     10    11\n",
      "New York   12   13     14    15\n"
     ]
    }
   ],
   "source": [
    "data_df = pd.DataFrame(np.arange(16).reshape((4, 4)), \n",
    "                      index = ['Ohio', 'Colorada', 'Utah', 'New York'],\n",
    "                      columns = ['one', 'two', 'three', 'four'])\n",
    "\n",
    "print(data_df)\n",
    "print(\"-----------------------------------------\")\n",
    "print(data_df[ data_df[(\"four\") and ('two')] > 5])\n"
   ]
  },
  {
   "cell_type": "code",
   "execution_count": 40,
   "metadata": {},
   "outputs": [
    {
     "name": "stdout",
     "output_type": "stream",
     "text": [
      "          one  two  three  four\n",
      "Ohio        0    1      2     3\n",
      "Colorada    4    5      6     7\n",
      "Utah        8    9     10    11\n",
      "New York   12   13     14    15\n",
      "-----------------------------------------\n",
      "          one  two  three  four\n",
      "Utah        8    9     10    11\n",
      "New York   12   13     14    15\n"
     ]
    }
   ],
   "source": [
    "data_df = pd.DataFrame(np.arange(16).reshape((4, 4)), \n",
    "                      index = ['Ohio', 'Colorada', 'Utah', 'New York'],\n",
    "                      columns = ['one', 'two', 'three', 'four'])\n",
    "\n",
    "print(data_df)\n",
    "print(\"-----------------------------------------\")\n",
    "print(data_df[ data_df[(\"four\") and ('one')] > 5])\n"
   ]
  },
  {
   "cell_type": "code",
   "execution_count": 41,
   "metadata": {},
   "outputs": [
    {
     "name": "stdout",
     "output_type": "stream",
     "text": [
      "          one  two  three  four\n",
      "Ohio        0    1      2     3\n",
      "Colorada    4    5      6     7\n",
      "Utah        8    9     10    11\n",
      "New York   12   13     14    15\n",
      "-----------------------------------------\n",
      "      one  two  three  four\n",
      "Ohio    0    1      2     3\n"
     ]
    }
   ],
   "source": [
    "data_df = pd.DataFrame(np.arange(16).reshape((4, 4)), \n",
    "                      index = ['Ohio', 'Colorada', 'Utah', 'New York'],\n",
    "                      columns = ['one', 'two', 'three', 'four'])\n",
    "\n",
    "print(data_df)\n",
    "print(\"-----------------------------------------\")\n",
    "print(data_df[ data_df[(\"four\") and ('three')] < 5])\n"
   ]
  },
  {
   "cell_type": "code",
   "execution_count": 42,
   "metadata": {},
   "outputs": [
    {
     "name": "stdout",
     "output_type": "stream",
     "text": [
      "          one  two  three  four\n",
      "Ohio        0    1      2     3\n",
      "Colorada    4    5      6     7\n",
      "Utah        8    9     10    11\n",
      "New York   12   13     14    15\n",
      "-----------------------------------------\n",
      "          one  two  three  four\n",
      "Utah        8    9     10    11\n",
      "New York   12   13     14    15\n"
     ]
    }
   ],
   "source": [
    "data_df = pd.DataFrame(np.arange(16).reshape((4, 4)), \n",
    "                      index = ['Ohio', 'Colorada', 'Utah', 'New York'],\n",
    "                      columns = ['one', 'two', 'three', 'four'])\n",
    "\n",
    "print(data_df)\n",
    "print(\"-----------------------------------------\")\n",
    "print(data_df[ data_df[(\"one\") and ('two')] > 5])\n"
   ]
  },
  {
   "cell_type": "code",
   "execution_count": 43,
   "metadata": {},
   "outputs": [
    {
     "name": "stdout",
     "output_type": "stream",
     "text": [
      "          one  two  three  four\n",
      "Ohio        0    1      2     3\n",
      "Colorada    4    5      6     7\n",
      "Utah        8    9     10    11\n",
      "New York   12   13     14    15\n",
      "-----------------------------------------\n",
      "          one  two  three  four\n",
      "Colorada    4    5      6     7\n",
      "Utah        8    9     10    11\n",
      "New York   12   13     14    15\n"
     ]
    }
   ],
   "source": [
    "data_df = pd.DataFrame(np.arange(16).reshape((4, 4)), \n",
    "                      index = ['Ohio', 'Colorada', 'Utah', 'New York'],\n",
    "                      columns = ['one', 'two', 'three', 'four'])\n",
    "\n",
    "print(data_df)\n",
    "print(\"-----------------------------------------\")\n",
    "print(data_df[ data_df[(\"one\") and ('three')] > 5])\n"
   ]
  },
  {
   "cell_type": "code",
   "execution_count": 44,
   "metadata": {},
   "outputs": [
    {
     "name": "stdout",
     "output_type": "stream",
     "text": [
      "          one  two  three  four\n",
      "Ohio        0    1      2     3\n",
      "Colorada    4    5      6     7\n",
      "Utah        8    9     10    11\n",
      "New York   12   13     14    15\n",
      "-----------------------------------------\n",
      "          one  two  three  four\n",
      "Colorada    4    5      6     7\n",
      "Utah        8    9     10    11\n",
      "New York   12   13     14    15\n"
     ]
    }
   ],
   "source": [
    "data_df = pd.DataFrame(np.arange(16).reshape((4, 4)), \n",
    "                      index = ['Ohio', 'Colorada', 'Utah', 'New York'],\n",
    "                      columns = ['one', 'two', 'three', 'four'])\n",
    "\n",
    "print(data_df)\n",
    "print(\"-----------------------------------------\")\n",
    "print(data_df[ data_df[(\"two\") and ('three')] > 5])\n"
   ]
  },
  {
   "cell_type": "code",
   "execution_count": null,
   "metadata": {},
   "outputs": [],
   "source": []
  }
 ],
 "metadata": {
  "kernelspec": {
   "display_name": "Python 3",
   "language": "python",
   "name": "python3"
  },
  "language_info": {
   "codemirror_mode": {
    "name": "ipython",
    "version": 3
   },
   "file_extension": ".py",
   "mimetype": "text/x-python",
   "name": "python",
   "nbconvert_exporter": "python",
   "pygments_lexer": "ipython3",
   "version": "3.7.7"
  }
 },
 "nbformat": 4,
 "nbformat_minor": 4
}
